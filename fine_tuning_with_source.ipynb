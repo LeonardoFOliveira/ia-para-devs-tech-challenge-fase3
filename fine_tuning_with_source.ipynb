{
 "cells": [
  {
   "cell_type": "markdown",
   "metadata": {},
   "source": [
    "# Fine-Tuning"
   ]
  },
  {
   "cell_type": "markdown",
   "metadata": {},
   "source": [
    "## Escolha do Dataset"
   ]
  },
  {
   "cell_type": "markdown",
   "metadata": {},
   "source": [
    "O Dataset proposto para ser utilizado no tech challange é o **The AmazonTitles-1.3MM**. Este consiste em consultas textuais reais de usuários e títulos associados de produtos relevantes encontrados na Amazon e suas descrições, medidos por ações implícitas ou explícitas dos \n",
    "usuários."
   ]
  },
  {
   "cell_type": "markdown",
   "metadata": {},
   "source": [
    "Pelo tamanho do dataset, não sera possível disponibiliza-lo de forma direta aqui. Para executar esse processo, deve-se baixar o arquivo no [link](https://drive.google.com/file/d/12zH4mL2RX8iSvH0VCNnd3QxO4DzuHWnK/view) que foi fornecido pelo Tech Challange, extrair e inserir o \"trn.json\" na raiz do projeto."
   ]
  },
  {
   "cell_type": "markdown",
   "metadata": {},
   "source": [
    "## Preparação do Dataset"
   ]
  },
  {
   "cell_type": "markdown",
   "metadata": {},
   "source": [
    "### Carregamento"
   ]
  },
  {
   "cell_type": "markdown",
   "metadata": {},
   "source": [
    "Utilização do arquivo \"trn.json\" do Dataset proposto, apenas com as colunas \"title\" e \"content\" as quais serão utilizadas posteriormente no fine tuning do modelo de LLM, de forma que responda as informações da descrição do produto com base em pergunta sobre o título."
   ]
  },
  {
   "cell_type": "code",
   "execution_count": null,
   "metadata": {},
   "outputs": [],
   "source": [
    "! pip install pandas"
   ]
  },
  {
   "cell_type": "code",
   "execution_count": 1,
   "metadata": {},
   "outputs": [
    {
     "name": "stdout",
     "output_type": "stream",
     "text": [
      "                                               title  \\\n",
      "0                        Girls Ballet Tutu Neon Pink   \n",
      "1                           Adult Ballet Tutu Yellow   \n",
      "2  The Way Things Work: An Illustrated Encycloped...   \n",
      "3                                      Mog's Kittens   \n",
      "4                              Misty of Chincoteague   \n",
      "\n",
      "                                             content  \n",
      "0  High quality 3 layer ballet tutu. 12 inches in...  \n",
      "1                                                     \n",
      "2                                                     \n",
      "3  Judith Kerr&#8217;s best&#8211;selling adventu...  \n",
      "4                                                     \n"
     ]
    }
   ],
   "source": [
    "import pandas as pd\n",
    "\n",
    "# Carregando o arquivo JSONL inteiro\n",
    "file_path = './trn.json'\n",
    "df = pd.read_json(file_path, lines=True)\n",
    "\n",
    "# Selecionando apenas as colunas desejadas\n",
    "colunas_desejadas = ['title', 'content']\n",
    "df_selecionado = df[colunas_desejadas]\n",
    "\n",
    "# Exibindo as primeiras linhas para verificar o resultado\n",
    "print(df_selecionado.head())\n"
   ]
  },
  {
   "cell_type": "code",
   "execution_count": 2,
   "metadata": {},
   "outputs": [
    {
     "data": {
      "text/plain": [
       "2248619"
      ]
     },
     "execution_count": 2,
     "metadata": {},
     "output_type": "execute_result"
    }
   ],
   "source": [
    "# Verificando o número de linhas\n",
    "df_selecionado.shape[0]"
   ]
  },
  {
   "cell_type": "markdown",
   "metadata": {},
   "source": [
    "### Limpeza e pré-processamento"
   ]
  },
  {
   "cell_type": "code",
   "execution_count": 3,
   "metadata": {},
   "outputs": [
    {
     "name": "stderr",
     "output_type": "stream",
     "text": [
      "C:\\Users\\leona\\AppData\\Local\\Temp\\ipykernel_16932\\2741903638.py:4: SettingWithCopyWarning: \n",
      "A value is trying to be set on a copy of a slice from a DataFrame\n",
      "\n",
      "See the caveats in the documentation: https://pandas.pydata.org/pandas-docs/stable/user_guide/indexing.html#returning-a-view-versus-a-copy\n",
      "  df_selecionado.replace(\"\", np.nan, inplace=True)\n",
      "C:\\Users\\leona\\AppData\\Local\\Temp\\ipykernel_16932\\2741903638.py:7: SettingWithCopyWarning: \n",
      "A value is trying to be set on a copy of a slice from a DataFrame\n",
      "\n",
      "See the caveats in the documentation: https://pandas.pydata.org/pandas-docs/stable/user_guide/indexing.html#returning-a-view-versus-a-copy\n",
      "  df_selecionado.dropna(inplace=True)\n",
      "C:\\Users\\leona\\AppData\\Local\\Temp\\ipykernel_16932\\2741903638.py:10: SettingWithCopyWarning: \n",
      "A value is trying to be set on a copy of a slice from a DataFrame\n",
      "\n",
      "See the caveats in the documentation: https://pandas.pydata.org/pandas-docs/stable/user_guide/indexing.html#returning-a-view-versus-a-copy\n",
      "  df_selecionado.drop_duplicates(inplace=True)\n"
     ]
    },
    {
     "data": {
      "text/plain": [
       "1367131"
      ]
     },
     "execution_count": 3,
     "metadata": {},
     "output_type": "execute_result"
    }
   ],
   "source": [
    "import numpy as np\n",
    "\n",
    "# Substituindo valores vazios (\"\") por NaN\n",
    "df_selecionado.replace(\"\", np.nan, inplace=True)\n",
    "\n",
    "# Removendo linhas com valores nulos\n",
    "df_selecionado.dropna(inplace=True)\n",
    "\n",
    "# Removendo linhas duplicadas\n",
    "df_selecionado.drop_duplicates(inplace=True)\n",
    "\n",
    "df_selecionado.shape[0]\n"
   ]
  },
  {
   "cell_type": "markdown",
   "metadata": {},
   "source": [
    "vamos deixar o texto preparado para que esteja em um formato de pergunta, de forma que esteja simulando a pergunta do usuário para exemplificar no treinamento."
   ]
  },
  {
   "cell_type": "code",
   "execution_count": 4,
   "metadata": {},
   "outputs": [
    {
     "name": "stderr",
     "output_type": "stream",
     "text": [
      "C:\\Users\\leona\\AppData\\Local\\Temp\\ipykernel_16932\\1435188121.py:1: SettingWithCopyWarning: \n",
      "A value is trying to be set on a copy of a slice from a DataFrame.\n",
      "Try using .loc[row_indexer,col_indexer] = value instead\n",
      "\n",
      "See the caveats in the documentation: https://pandas.pydata.org/pandas-docs/stable/user_guide/indexing.html#returning-a-view-versus-a-copy\n",
      "  df_selecionado['formatted_title'] = df_selecionado['title'].apply(lambda x: f\"What is product {x} on Amazon?\")\n"
     ]
    },
    {
     "data": {
      "text/html": [
       "<div>\n",
       "<style scoped>\n",
       "    .dataframe tbody tr th:only-of-type {\n",
       "        vertical-align: middle;\n",
       "    }\n",
       "\n",
       "    .dataframe tbody tr th {\n",
       "        vertical-align: top;\n",
       "    }\n",
       "\n",
       "    .dataframe thead th {\n",
       "        text-align: right;\n",
       "    }\n",
       "</style>\n",
       "<table border=\"1\" class=\"dataframe\">\n",
       "  <thead>\n",
       "    <tr style=\"text-align: right;\">\n",
       "      <th></th>\n",
       "      <th>title</th>\n",
       "      <th>content</th>\n",
       "      <th>formatted_title</th>\n",
       "    </tr>\n",
       "  </thead>\n",
       "  <tbody>\n",
       "    <tr>\n",
       "      <th>0</th>\n",
       "      <td>Girls Ballet Tutu Neon Pink</td>\n",
       "      <td>High quality 3 layer ballet tutu. 12 inches in...</td>\n",
       "      <td>What is product Girls Ballet Tutu Neon Pink on...</td>\n",
       "    </tr>\n",
       "    <tr>\n",
       "      <th>3</th>\n",
       "      <td>Mog's Kittens</td>\n",
       "      <td>Judith Kerr&amp;#8217;s best&amp;#8211;selling adventu...</td>\n",
       "      <td>What is product Mog's Kittens on Amazon?</td>\n",
       "    </tr>\n",
       "    <tr>\n",
       "      <th>7</th>\n",
       "      <td>Girls Ballet Tutu Neon Blue</td>\n",
       "      <td>Dance tutu for girls ages 2-8 years. Perfect f...</td>\n",
       "      <td>What is product Girls Ballet Tutu Neon Blue on...</td>\n",
       "    </tr>\n",
       "    <tr>\n",
       "      <th>12</th>\n",
       "      <td>The Prophet</td>\n",
       "      <td>In a distant, timeless place, a mysterious pro...</td>\n",
       "      <td>What is product The Prophet on Amazon?</td>\n",
       "    </tr>\n",
       "    <tr>\n",
       "      <th>13</th>\n",
       "      <td>Rightly Dividing the Word</td>\n",
       "      <td>--This text refers to thePaperbackedition.</td>\n",
       "      <td>What is product Rightly Dividing the Word on A...</td>\n",
       "    </tr>\n",
       "    <tr>\n",
       "      <th>...</th>\n",
       "      <td>...</td>\n",
       "      <td>...</td>\n",
       "      <td>...</td>\n",
       "    </tr>\n",
       "    <tr>\n",
       "      <th>2248608</th>\n",
       "      <td>[180 Days Warranty] ZeroLemon&amp;reg; Samsung Gal...</td>\n",
       "      <td>Features:This is the World's highest capacity ...</td>\n",
       "      <td>What is product [180 Days Warranty] ZeroLemon&amp;...</td>\n",
       "    </tr>\n",
       "    <tr>\n",
       "      <th>2248611</th>\n",
       "      <td>Teenage Mutant Ninja Turtles Donatello Wizard ...</td>\n",
       "      <td>With a pointed bed sheet hat, robe decorated w...</td>\n",
       "      <td>What is product Teenage Mutant Ninja Turtles D...</td>\n",
       "    </tr>\n",
       "    <tr>\n",
       "      <th>2248612</th>\n",
       "      <td>~Shave Ready~ Shaving Straight Razor 6/8&amp;quot;...</td>\n",
       "      <td>Inside this amazing set is a 6/8\" round point ...</td>\n",
       "      <td>What is product ~Shave Ready~ Shaving Straight...</td>\n",
       "    </tr>\n",
       "    <tr>\n",
       "      <th>2248617</th>\n",
       "      <td>Cont  Removable Paper Label</td>\n",
       "      <td>Continuous Length Removable Paper Label 2-3/7\"...</td>\n",
       "      <td>What is product Cont  Removable Paper Label on...</td>\n",
       "    </tr>\n",
       "    <tr>\n",
       "      <th>2248618</th>\n",
       "      <td>1/2&amp;quot;  Round Paper Labels</td>\n",
       "      <td>0.5\" - Diameter - 1200 Label(s)</td>\n",
       "      <td>What is product 1/2&amp;quot;  Round Paper Labels ...</td>\n",
       "    </tr>\n",
       "  </tbody>\n",
       "</table>\n",
       "<p>1367131 rows × 3 columns</p>\n",
       "</div>"
      ],
      "text/plain": [
       "                                                     title  \\\n",
       "0                              Girls Ballet Tutu Neon Pink   \n",
       "3                                            Mog's Kittens   \n",
       "7                              Girls Ballet Tutu Neon Blue   \n",
       "12                                             The Prophet   \n",
       "13                               Rightly Dividing the Word   \n",
       "...                                                    ...   \n",
       "2248608  [180 Days Warranty] ZeroLemon&reg; Samsung Gal...   \n",
       "2248611  Teenage Mutant Ninja Turtles Donatello Wizard ...   \n",
       "2248612  ~Shave Ready~ Shaving Straight Razor 6/8&quot;...   \n",
       "2248617                        Cont  Removable Paper Label   \n",
       "2248618                      1/2&quot;  Round Paper Labels   \n",
       "\n",
       "                                                   content  \\\n",
       "0        High quality 3 layer ballet tutu. 12 inches in...   \n",
       "3        Judith Kerr&#8217;s best&#8211;selling adventu...   \n",
       "7        Dance tutu for girls ages 2-8 years. Perfect f...   \n",
       "12       In a distant, timeless place, a mysterious pro...   \n",
       "13              --This text refers to thePaperbackedition.   \n",
       "...                                                    ...   \n",
       "2248608  Features:This is the World's highest capacity ...   \n",
       "2248611  With a pointed bed sheet hat, robe decorated w...   \n",
       "2248612  Inside this amazing set is a 6/8\" round point ...   \n",
       "2248617  Continuous Length Removable Paper Label 2-3/7\"...   \n",
       "2248618                    0.5\" - Diameter - 1200 Label(s)   \n",
       "\n",
       "                                           formatted_title  \n",
       "0        What is product Girls Ballet Tutu Neon Pink on...  \n",
       "3                 What is product Mog's Kittens on Amazon?  \n",
       "7        What is product Girls Ballet Tutu Neon Blue on...  \n",
       "12                  What is product The Prophet on Amazon?  \n",
       "13       What is product Rightly Dividing the Word on A...  \n",
       "...                                                    ...  \n",
       "2248608  What is product [180 Days Warranty] ZeroLemon&...  \n",
       "2248611  What is product Teenage Mutant Ninja Turtles D...  \n",
       "2248612  What is product ~Shave Ready~ Shaving Straight...  \n",
       "2248617  What is product Cont  Removable Paper Label on...  \n",
       "2248618  What is product 1/2&quot;  Round Paper Labels ...  \n",
       "\n",
       "[1367131 rows x 3 columns]"
      ]
     },
     "execution_count": 4,
     "metadata": {},
     "output_type": "execute_result"
    }
   ],
   "source": [
    "df_selecionado['formatted_title'] = df_selecionado['title'].apply(lambda x: f\"What is product {x} on Amazon?\")\n",
    "df_selecionado"
   ]
  },
  {
   "cell_type": "markdown",
   "metadata": {},
   "source": [
    "Vamos fazer o mesmo para o content, mas nesse caso para incluir a referência de source para que possa ser utilizado na exemplificação de resposta no treinamento."
   ]
  },
  {
   "cell_type": "code",
   "execution_count": 6,
   "metadata": {},
   "outputs": [
    {
     "name": "stderr",
     "output_type": "stream",
     "text": [
      "C:\\Users\\leona\\AppData\\Local\\Temp\\ipykernel_16932\\3909518501.py:1: SettingWithCopyWarning: \n",
      "A value is trying to be set on a copy of a slice from a DataFrame.\n",
      "Try using .loc[row_indexer,col_indexer] = value instead\n",
      "\n",
      "See the caveats in the documentation: https://pandas.pydata.org/pandas-docs/stable/user_guide/indexing.html#returning-a-view-versus-a-copy\n",
      "  df_selecionado['formatted_content'] = df_selecionado['content'].apply(\n"
     ]
    },
    {
     "data": {
      "text/html": [
       "<div>\n",
       "<style scoped>\n",
       "    .dataframe tbody tr th:only-of-type {\n",
       "        vertical-align: middle;\n",
       "    }\n",
       "\n",
       "    .dataframe tbody tr th {\n",
       "        vertical-align: top;\n",
       "    }\n",
       "\n",
       "    .dataframe thead th {\n",
       "        text-align: right;\n",
       "    }\n",
       "</style>\n",
       "<table border=\"1\" class=\"dataframe\">\n",
       "  <thead>\n",
       "    <tr style=\"text-align: right;\">\n",
       "      <th></th>\n",
       "      <th>title</th>\n",
       "      <th>content</th>\n",
       "      <th>formatted_title</th>\n",
       "      <th>formatted_content</th>\n",
       "    </tr>\n",
       "  </thead>\n",
       "  <tbody>\n",
       "    <tr>\n",
       "      <th>0</th>\n",
       "      <td>Girls Ballet Tutu Neon Pink</td>\n",
       "      <td>High quality 3 layer ballet tutu. 12 inches in...</td>\n",
       "      <td>What is product Girls Ballet Tutu Neon Pink on...</td>\n",
       "      <td>High quality 3 layer ballet tutu. 12 inches in...</td>\n",
       "    </tr>\n",
       "    <tr>\n",
       "      <th>3</th>\n",
       "      <td>Mog's Kittens</td>\n",
       "      <td>Judith Kerr&amp;#8217;s best&amp;#8211;selling adventu...</td>\n",
       "      <td>What is product Mog's Kittens on Amazon?</td>\n",
       "      <td>Judith Kerr&amp;#8217;s best&amp;#8211;selling adventu...</td>\n",
       "    </tr>\n",
       "    <tr>\n",
       "      <th>7</th>\n",
       "      <td>Girls Ballet Tutu Neon Blue</td>\n",
       "      <td>Dance tutu for girls ages 2-8 years. Perfect f...</td>\n",
       "      <td>What is product Girls Ballet Tutu Neon Blue on...</td>\n",
       "      <td>Dance tutu for girls ages 2-8 years. Perfect f...</td>\n",
       "    </tr>\n",
       "    <tr>\n",
       "      <th>12</th>\n",
       "      <td>The Prophet</td>\n",
       "      <td>In a distant, timeless place, a mysterious pro...</td>\n",
       "      <td>What is product The Prophet on Amazon?</td>\n",
       "      <td>In a distant, timeless place, a mysterious pro...</td>\n",
       "    </tr>\n",
       "    <tr>\n",
       "      <th>13</th>\n",
       "      <td>Rightly Dividing the Word</td>\n",
       "      <td>--This text refers to thePaperbackedition.</td>\n",
       "      <td>What is product Rightly Dividing the Word on A...</td>\n",
       "      <td>--This text refers to thePaperbackedition.  \\n...</td>\n",
       "    </tr>\n",
       "    <tr>\n",
       "      <th>...</th>\n",
       "      <td>...</td>\n",
       "      <td>...</td>\n",
       "      <td>...</td>\n",
       "      <td>...</td>\n",
       "    </tr>\n",
       "    <tr>\n",
       "      <th>2248608</th>\n",
       "      <td>[180 Days Warranty] ZeroLemon&amp;reg; Samsung Gal...</td>\n",
       "      <td>Features:This is the World's highest capacity ...</td>\n",
       "      <td>What is product [180 Days Warranty] ZeroLemon&amp;...</td>\n",
       "      <td>Features:This is the World's highest capacity ...</td>\n",
       "    </tr>\n",
       "    <tr>\n",
       "      <th>2248611</th>\n",
       "      <td>Teenage Mutant Ninja Turtles Donatello Wizard ...</td>\n",
       "      <td>With a pointed bed sheet hat, robe decorated w...</td>\n",
       "      <td>What is product Teenage Mutant Ninja Turtles D...</td>\n",
       "      <td>With a pointed bed sheet hat, robe decorated w...</td>\n",
       "    </tr>\n",
       "    <tr>\n",
       "      <th>2248612</th>\n",
       "      <td>~Shave Ready~ Shaving Straight Razor 6/8&amp;quot;...</td>\n",
       "      <td>Inside this amazing set is a 6/8\" round point ...</td>\n",
       "      <td>What is product ~Shave Ready~ Shaving Straight...</td>\n",
       "      <td>Inside this amazing set is a 6/8\" round point ...</td>\n",
       "    </tr>\n",
       "    <tr>\n",
       "      <th>2248617</th>\n",
       "      <td>Cont  Removable Paper Label</td>\n",
       "      <td>Continuous Length Removable Paper Label 2-3/7\"...</td>\n",
       "      <td>What is product Cont  Removable Paper Label on...</td>\n",
       "      <td>Continuous Length Removable Paper Label 2-3/7\"...</td>\n",
       "    </tr>\n",
       "    <tr>\n",
       "      <th>2248618</th>\n",
       "      <td>1/2&amp;quot;  Round Paper Labels</td>\n",
       "      <td>0.5\" - Diameter - 1200 Label(s)</td>\n",
       "      <td>What is product 1/2&amp;quot;  Round Paper Labels ...</td>\n",
       "      <td>0.5\" - Diameter - 1200 Label(s)  \\n***  \\n**So...</td>\n",
       "    </tr>\n",
       "  </tbody>\n",
       "</table>\n",
       "<p>1367131 rows × 4 columns</p>\n",
       "</div>"
      ],
      "text/plain": [
       "                                                     title  \\\n",
       "0                              Girls Ballet Tutu Neon Pink   \n",
       "3                                            Mog's Kittens   \n",
       "7                              Girls Ballet Tutu Neon Blue   \n",
       "12                                             The Prophet   \n",
       "13                               Rightly Dividing the Word   \n",
       "...                                                    ...   \n",
       "2248608  [180 Days Warranty] ZeroLemon&reg; Samsung Gal...   \n",
       "2248611  Teenage Mutant Ninja Turtles Donatello Wizard ...   \n",
       "2248612  ~Shave Ready~ Shaving Straight Razor 6/8&quot;...   \n",
       "2248617                        Cont  Removable Paper Label   \n",
       "2248618                      1/2&quot;  Round Paper Labels   \n",
       "\n",
       "                                                   content  \\\n",
       "0        High quality 3 layer ballet tutu. 12 inches in...   \n",
       "3        Judith Kerr&#8217;s best&#8211;selling adventu...   \n",
       "7        Dance tutu for girls ages 2-8 years. Perfect f...   \n",
       "12       In a distant, timeless place, a mysterious pro...   \n",
       "13              --This text refers to thePaperbackedition.   \n",
       "...                                                    ...   \n",
       "2248608  Features:This is the World's highest capacity ...   \n",
       "2248611  With a pointed bed sheet hat, robe decorated w...   \n",
       "2248612  Inside this amazing set is a 6/8\" round point ...   \n",
       "2248617  Continuous Length Removable Paper Label 2-3/7\"...   \n",
       "2248618                    0.5\" - Diameter - 1200 Label(s)   \n",
       "\n",
       "                                           formatted_title  \\\n",
       "0        What is product Girls Ballet Tutu Neon Pink on...   \n",
       "3                 What is product Mog's Kittens on Amazon?   \n",
       "7        What is product Girls Ballet Tutu Neon Blue on...   \n",
       "12                  What is product The Prophet on Amazon?   \n",
       "13       What is product Rightly Dividing the Word on A...   \n",
       "...                                                    ...   \n",
       "2248608  What is product [180 Days Warranty] ZeroLemon&...   \n",
       "2248611  What is product Teenage Mutant Ninja Turtles D...   \n",
       "2248612  What is product ~Shave Ready~ Shaving Straight...   \n",
       "2248617  What is product Cont  Removable Paper Label on...   \n",
       "2248618  What is product 1/2&quot;  Round Paper Labels ...   \n",
       "\n",
       "                                         formatted_content  \n",
       "0        High quality 3 layer ballet tutu. 12 inches in...  \n",
       "3        Judith Kerr&#8217;s best&#8211;selling adventu...  \n",
       "7        Dance tutu for girls ages 2-8 years. Perfect f...  \n",
       "12       In a distant, timeless place, a mysterious pro...  \n",
       "13       --This text refers to thePaperbackedition.  \\n...  \n",
       "...                                                    ...  \n",
       "2248608  Features:This is the World's highest capacity ...  \n",
       "2248611  With a pointed bed sheet hat, robe decorated w...  \n",
       "2248612  Inside this amazing set is a 6/8\" round point ...  \n",
       "2248617  Continuous Length Removable Paper Label 2-3/7\"...  \n",
       "2248618  0.5\" - Diameter - 1200 Label(s)  \\n***  \\n**So...  \n",
       "\n",
       "[1367131 rows x 4 columns]"
      ]
     },
     "execution_count": 6,
     "metadata": {},
     "output_type": "execute_result"
    }
   ],
   "source": [
    "df_selecionado['formatted_content'] = df_selecionado['content'].apply(\n",
    "    lambda x: f\"{x}  \\n***  \\n**Source:** 'trn.json' file in dataset [The AmazonTitles-1.3MM](https://drive.google.com/file/d/12zH4mL2RX8iSvH0VCNnd3QxO4DzuHWnK/view)\"\n",
    ")\n",
    "df_selecionado\n"
   ]
  },
  {
   "cell_type": "markdown",
   "metadata": {},
   "source": [
    "Para utilizar o fine tunning do Gemini, há algumas limitações como por exemplo:\n",
    "- The maximum input size per example is 40,000 characters.\n",
    "- The maximum output size per example is 5,000 characters.\n",
    "\n",
    "Nesse sentido, é necessário tratar para que não receba exemplos que ultrapasse esses valores."
   ]
  },
  {
   "cell_type": "code",
   "execution_count": 7,
   "metadata": {},
   "outputs": [],
   "source": [
    "# Filtrando linhas com menos de 40.000 caracteres na coluna \"title\"\n",
    "df_selecionado = df_selecionado[df_selecionado['formatted_title'].apply(lambda x: len(x) <= 40000)]\n",
    "\n",
    "# Filtrando linhas com menos de 5.000 caracteres na coluna \"content\"\n",
    "df_selecionado = df_selecionado[df_selecionado['formatted_content'].apply(lambda x: len(x) <= 5000)]"
   ]
  },
  {
   "cell_type": "code",
   "execution_count": 8,
   "metadata": {},
   "outputs": [
    {
     "data": {
      "text/plain": [
       "1361217"
      ]
     },
     "execution_count": 8,
     "metadata": {},
     "output_type": "execute_result"
    }
   ],
   "source": [
    "df_selecionado.shape[0]"
   ]
  },
  {
   "cell_type": "markdown",
   "metadata": {},
   "source": [
    "A uma limitação do tamanho de dados de treinamento que pode ser passado para o fine tuning com a lib (max 400 MB) e também limitação referente ao numero de exemplos que podemos utilizar multiplicado pleo número de épocas (len(examples) * epoch_count < 250.000). \n",
    "\n",
    "Nesse sentido, vamos precisar reduzir o dataset."
   ]
  },
  {
   "cell_type": "markdown",
   "metadata": {},
   "source": [
    "Primeiro vamos verificar o tamanho do \"arquivo\" do dataset selecionado."
   ]
  },
  {
   "cell_type": "code",
   "execution_count": 9,
   "metadata": {},
   "outputs": [
    {
     "name": "stdout",
     "output_type": "stream",
     "text": [
      "Tamanho atual do dataset: 1196.5949487686157 MB\n"
     ]
    }
   ],
   "source": [
    "import sys\n",
    "\n",
    "columns_for_training = ['formatted_title','formatted_content']\n",
    "dataset_for_training_size = sys.getsizeof(df_selecionado[columns_for_training])\n",
    "print(f\"Tamanho atual do dataset: {dataset_for_training_size / (1024 * 1024)} MB\")"
   ]
  },
  {
   "cell_type": "markdown",
   "metadata": {},
   "source": [
    "Remover primeiramente as linhas com base na quantidade de épocas exploradas, que consequentemente deve reduzir o tamanho em MB."
   ]
  },
  {
   "cell_type": "code",
   "execution_count": 10,
   "metadata": {},
   "outputs": [],
   "source": [
    "# Embaralhando o DataFrame\n",
    "df_shuffled = df_selecionado.sample(frac=1, random_state=42).reset_index(drop=True)"
   ]
  },
  {
   "cell_type": "markdown",
   "metadata": {},
   "source": [
    "**Calculando o limite permitido:**"
   ]
  },
  {
   "cell_type": "code",
   "execution_count": 11,
   "metadata": {},
   "outputs": [
    {
     "name": "stdout",
     "output_type": "stream",
     "text": [
      "Pode-se usar até 125000 exemplos no dataset com 2 épocas.\n"
     ]
    }
   ],
   "source": [
    "epoch_count = 2\n",
    "\n",
    "max_examples = 250000 // epoch_count\n",
    "print(f\"Pode-se usar até {max_examples} exemplos no dataset com {epoch_count} épocas.\")"
   ]
  },
  {
   "cell_type": "markdown",
   "metadata": {},
   "source": [
    "**Reduzindo o Dataset:**"
   ]
  },
  {
   "cell_type": "code",
   "execution_count": 12,
   "metadata": {},
   "outputs": [],
   "source": [
    "# Removendo as linhas excedentes\n",
    "df_reduced = df_shuffled.iloc[:max_examples]"
   ]
  },
  {
   "cell_type": "code",
   "execution_count": 13,
   "metadata": {},
   "outputs": [
    {
     "data": {
      "text/plain": [
       "125000"
      ]
     },
     "execution_count": 13,
     "metadata": {},
     "output_type": "execute_result"
    }
   ],
   "source": [
    "df_reduced.shape[0]"
   ]
  },
  {
   "cell_type": "code",
   "execution_count": 14,
   "metadata": {},
   "outputs": [
    {
     "name": "stdout",
     "output_type": "stream",
     "text": [
      "Tamanho reduzido do dataset: 108.88786697387695 MB\n"
     ]
    }
   ],
   "source": [
    "new_size = sys.getsizeof(df_reduced[columns_for_training])\n",
    "print(f\"Tamanho reduzido do dataset: {new_size / (1024 * 1024)} MB\")"
   ]
  },
  {
   "cell_type": "markdown",
   "metadata": {},
   "source": [
    "**Caso fosse necessário diminuir o tamanho ainda mais:**"
   ]
  },
  {
   "cell_type": "code",
   "execution_count": null,
   "metadata": {},
   "outputs": [],
   "source": [
    "# # Quantidade de linhas totais no dataset\n",
    "# total_rows = len(df_reduced)\n",
    "\n",
    "# # Tamanho médio por linha\n",
    "# average_row_size = dataset_size / total_rows\n",
    "\n",
    "# # Limite de tamanho em bytes (400 MB)\n",
    "# max_size = 400 * 1024 * 1024  # 400 MB em bytes\n",
    "\n",
    "# # Calculando quantas linhas precisamos para ficar abaixo de 400 MB\n",
    "# target_rows = int(max_size / average_row_size)\n",
    "\n",
    "# # Removendo as linhas excedentes\n",
    "# df_reduced = df_reduced.iloc[:target_rows]\n",
    "\n",
    "# # Verificando o novo tamanho\n",
    "# new_size = sys.getsizeof(df_reduced)\n",
    "# print(f\"Tamanho reduzido do dataset: {new_size / (1024 * 1024)} MB\")"
   ]
  },
  {
   "cell_type": "code",
   "execution_count": 15,
   "metadata": {},
   "outputs": [],
   "source": [
    "# Salvando o DataFrame reduzido e formatado com sources em formato JSONL para melhor visualização dos dados finais\n",
    "df_reduced.to_json('dataset_reduzido_com_sources_formatado.jsonl', orient='records', lines=True)"
   ]
  },
  {
   "cell_type": "markdown",
   "metadata": {},
   "source": [
    "Vamos zipar o jsonl resumido, pois seu tamanho é grande para subir no repositório. Nesse sentido, o .jsonl será ignorado pelo git e o zip subirá para posterior descompressão se quiser ser analisado."
   ]
  },
  {
   "cell_type": "code",
   "execution_count": 28,
   "metadata": {},
   "outputs": [],
   "source": [
    "import zipfile\n",
    "import os\n",
    "\n",
    "# Name of the zip file to be created\n",
    "zip_name = 'dataset_reduzido_com_sources_formatado_jsonl.zip'\n",
    "\n",
    "# File or directory you want to zip\n",
    "file_to_zip = 'dataset_reduzido_com_sources_formatado.jsonl'\n",
    "\n",
    "# Create the zip file\n",
    "with zipfile.ZipFile(zip_name, 'w', zipfile.ZIP_DEFLATED) as zipf:\n",
    "    # Check if it's a directory\n",
    "    if os.path.isdir(file_to_zip):\n",
    "        # Add all files within the directory\n",
    "        for folder, subfolders, files in os.walk(file_to_zip):\n",
    "            for file in files:\n",
    "                full_path = os.path.join(folder, file)\n",
    "                zipf.write(full_path, os.path.relpath(full_path, file_to_zip))\n",
    "    else:\n",
    "        # Add a single file\n",
    "        zipf.write(file_to_zip)\n"
   ]
  },
  {
   "cell_type": "markdown",
   "metadata": {},
   "source": [
    "## Google AI Studio"
   ]
  },
  {
   "cell_type": "code",
   "execution_count": null,
   "metadata": {},
   "outputs": [],
   "source": [
    "! pip install google-generativeai"
   ]
  },
  {
   "cell_type": "markdown",
   "metadata": {},
   "source": [
    "### Chamada do Base (Foundation) Model"
   ]
  },
  {
   "cell_type": "markdown",
   "metadata": {},
   "source": [
    "Antes de realizarmos o processo de execução do fine-tuning, testaremos com uma chamada no modelo base antes do treinamento, para que se obtenha uma base de análise após o fine-tuning."
   ]
  },
  {
   "cell_type": "markdown",
   "metadata": {},
   "source": [
    "#### Autenticação - OAuth"
   ]
  },
  {
   "cell_type": "markdown",
   "metadata": {},
   "source": [
    "##### Pré requisitos"
   ]
  },
  {
   "cell_type": "markdown",
   "metadata": {},
   "source": [
    "- Um Google Cloud Project\n",
    "- Instalar o gcloud CLI localmente"
   ]
  },
  {
   "cell_type": "markdown",
   "metadata": {},
   "source": [
    "Para realizar o fine tuning de um modelo base Gemini pelo Google AI Studio, é necessário fazer uma autenticação do tipo OAuth. \n",
    "\n",
    "Documentação de referência para OAuth: https://ai.google.dev/gemini-api/docs/oauth\n",
    " \n",
    "_OAuth é apenas necessário para o fine tuning. Para a utilização do modelo fine tuned, pode utilizar API Key._"
   ]
  },
  {
   "cell_type": "code",
   "execution_count": 16,
   "metadata": {},
   "outputs": [
    {
     "name": "stderr",
     "output_type": "stream",
     "text": [
      "Your browser has been opened to visit:\n",
      "\n",
      "    https://accounts.google.com/o/oauth2/auth?response_type=code&client_id=610173493762-cbik4ek8b40oo3hq52bk1hbam4egjr0r.apps.googleusercontent.com&redirect_uri=http%3A%2F%2Flocalhost%3A8085%2F&scope=https%3A%2F%2Fwww.googleapis.com%2Fauth%2Fcloud-platform+https%3A%2F%2Fwww.googleapis.com%2Fauth%2Fgenerative-language.retriever+https%3A%2F%2Fwww.googleapis.com%2Fauth%2Fgenerative-language.tuning&state=M7jeWiiYowAlPmSAeUMfWHiOi0CY7o&access_type=offline&code_challenge=8EZO2mu7cXMPz67qYPW5xUjMnjnD6bWfIfjWip09S5c&code_challenge_method=S256\n",
      "\n",
      "\n",
      "Credentials saved to file: [C:\\Users\\leona\\AppData\\Roaming\\gcloud\\application_default_credentials.json]\n",
      "\n",
      "These credentials will be used by any library that requests Application Default Credentials (ADC).\n"
     ]
    }
   ],
   "source": [
    "!gcloud auth application-default login \\\n",
    "    --client-id-file=client_secret.json \\\n",
    "    --scopes=\"https://www.googleapis.com/auth/cloud-platform,https://www.googleapis.com/auth/generative-language.retriever,https://www.googleapis.com/auth/generative-language.tuning\""
   ]
  },
  {
   "cell_type": "code",
   "execution_count": 17,
   "metadata": {},
   "outputs": [
    {
     "name": "stdout",
     "output_type": "stream",
     "text": [
      "ya29.a0AcM612yWd_WCQsy6TnloMfMRmqXSnHsXgCSCrC0dBU1wftTFAjQQdvvHCrrfvbzSluMma1Np_OO1pimHMDBV8p9duuO1A97eDj6XE3OTiT95KOW8w76J3Nsy3tyLlGnoxb5CspQeeYG4vUEbc3OnwThMIR8fZXzln-Q6lGFpaCgYKAT0SARASFQHGX2Mi_cZQFwLfGDNtwyoVHo1Q5g0175\n"
     ]
    }
   ],
   "source": [
    "! gcloud auth application-default print-access-token"
   ]
  },
  {
   "cell_type": "code",
   "execution_count": null,
   "metadata": {},
   "outputs": [],
   "source": [
    "# ! pip install python-dotenv"
   ]
  },
  {
   "cell_type": "code",
   "execution_count": 56,
   "metadata": {},
   "outputs": [
    {
     "data": {
      "text/plain": [
       "'I do not have access to real-time information, including product details from online retailers like Amazon. To find information about the \"5 Ft Turbo Tube Slide Yellow\" on Amazon, you\\'ll need to:\\n\\n1. **Go to Amazon\\'s website.**\\n2. **Search for \"5 Ft Turbo Tube Slide Yellow\".** This will likely bring up several results.\\n3. **Look through the results** to find the specific product you\\'re interested in. \\n4. **Read the product description and customer reviews** to get more information about it.\\n\\nRemember, product availability and prices can change frequently. \\n'"
      ]
     },
     "execution_count": 56,
     "metadata": {},
     "output_type": "execute_result"
    }
   ],
   "source": [
    "# import os\n",
    "import google.generativeai as genai\n",
    "# from dotenv import load_dotenv\n",
    "\n",
    "# load_dotenv()\n",
    "\n",
    "# genai.configure(api_key=os.getenv(\"GEMINI_API_KEY\"))\n",
    "\n",
    "base_model = \"models/gemini-1.5-flash-001-tuning\"\n",
    "model_before = genai.GenerativeModel(\n",
    "  model_name=base_model,\n",
    ")\n",
    "\n",
    "result_before = model_before.generate_content('What is product \"5 Ft Turbo Tube Slide Yellow\" on Amazon?')\n",
    "result_before.text"
   ]
  },
  {
   "cell_type": "markdown",
   "metadata": {},
   "source": [
    "### Execução do Fine-Tuning"
   ]
  },
  {
   "cell_type": "markdown",
   "metadata": {},
   "source": [
    "#### Criação do tuned model"
   ]
  },
  {
   "cell_type": "markdown",
   "metadata": {},
   "source": [
    "##### Preparando dados de treinamento"
   ]
  },
  {
   "cell_type": "markdown",
   "metadata": {},
   "source": [
    "O dataset foi limpado e pré processado acima. Porém para utilizar no trainamento é necessário passar as informações no formato de lista com \"text_input\" e \"output\", passando como exemplos de entrada e saída esperada."
   ]
  },
  {
   "cell_type": "code",
   "execution_count": 19,
   "metadata": {},
   "outputs": [],
   "source": [
    "training_data = df_reduced.apply(lambda row: {\"text_input\": row['formatted_title'], \"output\": row['formatted_content']}, axis=1).tolist()"
   ]
  },
  {
   "cell_type": "markdown",
   "metadata": {},
   "source": [
    "##### Execução"
   ]
  },
  {
   "cell_type": "code",
   "execution_count": 23,
   "metadata": {},
   "outputs": [],
   "source": [
    "id_model_tuning = \"tech-challenge-fase3-with-source\"\n",
    "\n",
    "operation = genai.create_tuned_model(\n",
    "    display_name=\"tech-challenge-fase3-with-source\",\n",
    "    id=id_model_tuning,\n",
    "    source_model=base_model,\n",
    "    epoch_count=epoch_count,\n",
    "    batch_size=4,\n",
    "    learning_rate=0.001,\n",
    "    training_data=training_data,\n",
    ")"
   ]
  },
  {
   "cell_type": "markdown",
   "metadata": {},
   "source": [
    "##### Checando progresso do tuning"
   ]
  },
  {
   "cell_type": "code",
   "execution_count": 27,
   "metadata": {},
   "outputs": [
    {
     "name": "stderr",
     "output_type": "stream",
     "text": [
      "100%|██████████| 62500/62500 [00:04<00:00, 12808.69it/s]\n"
     ]
    }
   ],
   "source": [
    "import time\n",
    "\n",
    "for status in operation.wait_bar():\n",
    "  time.sleep(10)"
   ]
  },
  {
   "cell_type": "markdown",
   "metadata": {},
   "source": [
    "##### Resultados tuning"
   ]
  },
  {
   "cell_type": "markdown",
   "metadata": {},
   "source": [
    "Uma vez que o tuning esteja completo, podemos visualizar a curva de perda dos resultados do ajuste. A curva de perda mostra o quanto as previsões do modelo desviam das saídas ideais."
   ]
  },
  {
   "cell_type": "code",
   "execution_count": null,
   "metadata": {},
   "outputs": [],
   "source": [
    "! pip install seaborn"
   ]
  },
  {
   "cell_type": "code",
   "execution_count": 30,
   "metadata": {},
   "outputs": [],
   "source": [
    "# model = operation.result()\n",
    "# model\n",
    "\n",
    "## Carregando informações do modelo finalizado (nome obtido pelo interface web)\n",
    "model = genai.get_tuned_model(f\"tunedModels/{id_model_tuning}\")"
   ]
  },
  {
   "cell_type": "code",
   "execution_count": 31,
   "metadata": {},
   "outputs": [
    {
     "data": {
      "text/plain": [
       "<State.ACTIVE: 2>"
      ]
     },
     "execution_count": 31,
     "metadata": {},
     "output_type": "execute_result"
    }
   ],
   "source": [
    "model.state"
   ]
  },
  {
   "cell_type": "code",
   "execution_count": 32,
   "metadata": {},
   "outputs": [
    {
     "data": {
      "text/plain": [
       "<Axes: xlabel='epoch', ylabel='mean_loss'>"
      ]
     },
     "execution_count": 32,
     "metadata": {},
     "output_type": "execute_result"
    },
    {
     "data": {
      "image/png": "[encoded data removed]",
      "text/plain": [
       "<Figure size 640x480 with 1 Axes>"
      ]
     },
     "metadata": {},
     "output_type": "display_data"
    }
   ],
   "source": [
    "import pandas as pd\n",
    "import seaborn as sns\n",
    "\n",
    "snapshots = pd.DataFrame(model.tuning_task.snapshots)\n",
    "\n",
    "sns.lineplot(data=snapshots, x = 'epoch', y='mean_loss')"
   ]
  },
  {
   "cell_type": "markdown",
   "metadata": {},
   "source": [
    "### Geração de respostas"
   ]
  },
  {
   "cell_type": "code",
   "execution_count": 35,
   "metadata": {},
   "outputs": [],
   "source": [
    "model = genai.GenerativeModel(model_name=f\"tunedModels/{id_model_tuning}\")"
   ]
  },
  {
   "cell_type": "code",
   "execution_count": 57,
   "metadata": {},
   "outputs": [
    {
     "data": {
      "text/plain": [
       "\"Play on all day long with the slide from 5' turbo slide with a smooth glossy slide. The slides are made of a heavy gauge 3/4 in PVC material that resists impact from slides or rocks, and the slide is resistant to fading. Slides are sold as a complete kit and include all hardware, a PVC spray bottle, and instructions. All kits include slide, galvanized metal hardware, slide poles, end caps, slide stakes, and installation instructions. Slides do not include water hose attachments.  \\n***  \\n**Source:** 'trn.json' file in dataset [The AmazonTitles-1.3MM](https://drive.google.com/file/d/12zH4mL2RX8iSvH0VCNnd3QxO4DzuHWnK/view)\""
      ]
     },
     "execution_count": 57,
     "metadata": {},
     "output_type": "execute_result"
    }
   ],
   "source": [
    "result = model.generate_content('What is product \"5 Ft Turbo Tube Slide Yellow\" on Amazon?')\n",
    "result.text"
   ]
  },
  {
   "cell_type": "markdown",
   "metadata": {},
   "source": [
    "Agora, após o tuning no modelo, ele conseguiu responder a pergunta com informações do produto de fato!\n",
    "\n",
    "No entanto ele foi \"criativo\" e colocou com dizeres diferente indo até além que o content original.\n",
    "\n",
    "Comparando respostas antes, depois e conteúdo original:\n",
    "\n",
    "Antes: 'I do not have access to real-time information, including product details from online retailers like Amazon. To find information about the \"5 Ft Turbo Tube Slide Yellow\" on Amazon, you\\'ll need to:\\n\\n1. **Go to Amazon\\'s website.**\\n2. **Search for \"5 Ft Turbo Tube Slide Yellow\".** This will likely bring up several results.\\n3. **Look through the results** to find the specific product you\\'re interested in. \\n4. **Read the product description and customer reviews** to get more information about it.\\n\\nRemember, product availability and prices can change frequently. \\n'\n",
    "\n",
    "Depois: \"Play on all day long with the slide from 5' turbo slide with a smooth glossy slide. The slides are made of a heavy gauge 3/4 in PVC material that resists impact from slides or rocks, and the slide is resistant to fading. Slides are sold as a complete kit and include all hardware, a PVC spray bottle, and instructions. All kits include slide, galvanized metal hardware, slide poles, end caps, slide stakes, and installation instructions. Slides do not include water hose attachments.  \\n***  \\n**Source:** 'trn.json' file in dataset [The AmazonTitles-1.3MM](https://drive.google.com/file/d/12zH4mL2RX8iSvH0VCNnd3QxO4DzuHWnK/view)\"\n",
    "\n",
    "Content Original: \"The new 5' Turbo Tube Slide is full of turning twisting fun. This slide will take most play sets with a 5' deck to an entirely new level adding a new slide component to your child's fun and enjoyment. This thermo-formed HDPE slide comes with a lifetime warranty and will fit most 5' decks. Additional lumber purchase may be necessary depending on the configuration of your play set.\""
   ]
  },
  {
   "cell_type": "markdown",
   "metadata": {},
   "source": [
    "Caso queiramos que a resposta esteja mais próxima da original, podemos experimentar diminuindo a temperatura do modelo ao gerar conteúdo, de forma que ele fique menos \"criativo\"."
   ]
  },
  {
   "cell_type": "code",
   "execution_count": 77,
   "metadata": {},
   "outputs": [
    {
     "data": {
      "text/plain": [
       "\"The 5 Ft Turbo Tube Slide Yellow is a great way to cool off on a hot summer day. The slide is made of durable PVC and is easy to assemble. It is also easy to clean and store.  \\n***  \\n**Source:** 'trn.json' file in dataset [The AmazonTitles-1.3MM](https://drive.google.com/file/d/12zH4mL2RX8iSvH0VCNnd3QxO4DzuHWnK/view)\""
      ]
     },
     "execution_count": 77,
     "metadata": {},
     "output_type": "execute_result"
    }
   ],
   "source": [
    "result = model.generate_content('What is product \"5 Ft Turbo Tube Slide Yellow\" on Amazon?',generation_config={'temperature': 0})\n",
    "result.text"
   ]
  },
  {
   "cell_type": "markdown",
   "metadata": {},
   "source": [
    "**Depois com temperature 0:** '\"The 5 Ft Turbo Tube Slide Yellow is a great way to cool off on a hot summer day. The slide is made of durable PVC and is easy to assemble. It is also easy to clean and store.  \\n***  \\n**Source:** 'trn.json' file in dataset [The AmazonTitles-1.3MM](https://drive.google.com/file/d/12zH4mL2RX8iSvH0VCNnd3QxO4DzuHWnK/view)\"'\n",
    "\n",
    "**Content Original:** \"The new 5' Turbo Tube Slide is full of turning twisting fun. This slide will take most play sets with a 5' deck to an entirely new level adding a new slide component to your child's fun and enjoyment. This thermo-formed HDPE slide comes with a lifetime warranty and will fit most 5' decks. Additional lumber purchase may be necessary depending on the configuration of your play set.\""
   ]
  },
  {
   "cell_type": "markdown",
   "metadata": {},
   "source": [
    "Explorarmos mais alguns outros produtos."
   ]
  },
  {
   "cell_type": "code",
   "execution_count": 76,
   "metadata": {},
   "outputs": [
    {
     "name": "stdout",
     "output_type": "stream",
     "text": [
      "Antes do tuning: I do not have access to real-time information, including product listings on Amazon. To get specific details about the \"Dallas Cowboys Ret retractable Badge Reel Id Ticket Clip\" on Amazon, I recommend you:\n",
      "\n",
      "1. **Search for it directly on Amazon:** Go to the Amazon website and search for the exact product name. This will bring up the product listing, where you can see all the details, images, reviews, and pricing.\n",
      "\n",
      "2. **Check the product description:** Once you find the product listing, read the description carefully. It should provide information about the features, materials, dimensions, and other important details of the badge reel.\n",
      "\n",
      "3. **Look at the images:** The images provided on the product listing can give you a visual idea of what the badge reel looks like.\n",
      "\n",
      "4. **Read customer reviews:** Customer reviews can be very helpful in understanding the quality, functionality, and overall satisfaction with the product.\n",
      "\n",
      "I hope this helps! Let me know if you have any other questions. \n",
      "\n",
      "----------\n",
      "Depois do tuning: If you want to be a Dallas Cowboys fan and work in an office or workplace that requires you to wear an id tag or employee pass this id badge holder was made with you in mind. We have added a football that makes this one a fun badge holder, but also a cool way to show your team pride. This badge holder has a spring loaded reel that retracts your badge from up to 28\" away and then reels back in for a neat and professional looking way to wear a badge. We have used high quality materials that allow our badge reels to stay looking like new and stay in good working order. Each is made of a quality nylon strap that will not crack or shrink and comes in an assortment of 3 colors.Each of our id badge reel is assembled and decorated to our high standards by skilled craftsmen in Texas. Our ID badges are made of quality materials and a strong spring.We also include a 2 piece belt clip. Our badge reel will reel back to the case so your badge can not drag in dirt and water on the floor.This product is designed and manufactured in the United States.We are a small Veteran owned family business.We are Dallas Cowboy fans! We are so confident that you will be happy with our id badge holder that it comes with a full 1 year no questions asked money back guarantee.  \n",
      "***  \n",
      "**Source:** 'trn.json' file in dataset [The AmazonTitles-1.3MM](https://drive.google.com/file/d/12zH4mL2RX8iSvH0VCNnd3QxO4DzuHWnK/view)\n",
      "----------\n",
      "Depois do tuning com temperature 0: This is a Dallas Cowboys Retractable Badge Reel Id Ticket Clip.  \n",
      "***  \n",
      "**Source:** 'trn.json' file in dataset [The AmazonTitles-1.3MM](https://drive.google.com/file/d/12zH4mL2RX8iSvH0VCNnd3QxO4DzuHWnK/view)\n",
      "----------\n",
      "Content Original: Team colored plastic reel. 1 round and has a team logo STICKER in the center. The Reel goes out 363 feet. It has a metal clip on the back and a snap clip to hold the ID or whatever. It could be used as a Ticket holder, Id Holder.\n"
     ]
    }
   ],
   "source": [
    "#Modelo base\n",
    "result = model_before.generate_content('What is product \"Dallas Cowboys Retractable Badge Reel Id Ticket Clip\" on Amazon?')\n",
    "print(f'Antes do tuning: {result.text}')\n",
    "\n",
    "print('----------')\n",
    "\n",
    "# Modelo tuned\n",
    "result = model.generate_content('What is product \"Dallas Cowboys Retractable Badge Reel Id Ticket Clip\" on Amazon?')\n",
    "print(f'Depois do tuning: {result.text}')\n",
    "\n",
    "print('----------')\n",
    "\n",
    "# Modelo tuned com temperature 0\n",
    "result = model.generate_content('What is product \"Dallas Cowboys Retractable Badge Reel Id Ticket Clip\" on Amazon?',generation_config={'temperature': 0})\n",
    "print(f'Depois do tuning com temperature 0: {result.text}')\n",
    "\n",
    "print('----------')\n",
    "\n",
    "# Content Original do dataset reduzido\n",
    "print(\"Content Original: Team colored plastic reel. 1 round and has a team logo STICKER in the center. The Reel goes out 363 feet. It has a metal clip on the back and a snap clip to hold the ID or whatever. It could be used as a Ticket holder, Id Holder.\")"
   ]
  },
  {
   "cell_type": "code",
   "execution_count": 75,
   "metadata": {},
   "outputs": [
    {
     "name": "stdout",
     "output_type": "stream",
     "text": [
      "Antes do tuning: I do not have access to real-time information, including product details from online retailers like Amazon. To find information about the TOAKS Titanium 850ml Pot on Amazon, I recommend you visit the Amazon website directly. \n",
      "\n",
      "You can search for \"TOAKS Titanium 850ml Pot\" in the Amazon search bar. This will provide you with product details, reviews, images, and pricing information. \n",
      "\n",
      "----------\n",
      "Depois do tuning: TOAKS Titanium 850ml Pot is made of titanium and has a 13.5 fl oz (390 ml) capacity. It is the ideal cook set for hikers and campers.  \n",
      "***  \n",
      "**Source:** 'trn.json' file in dataset [The AmazonTitles-1.3MM](https://drive.google.com/file/d/12zH4mL2RX8iSvH0VCNnd3QxO4DzuHWnK/view)\n",
      "----------\n",
      "Depois do tuning com temperature 0: TOAKS Titanium 850ml Pot  \n",
      "***  \n",
      "**Source:** 'trn.json' file in dataset [The AmazonTitles-1.3MM](https://drive.google.com/file/d/12zH4mL2RX8iSvH0VCNnd3QxO4DzuHWnK/view)\n",
      "----------\n",
      "Content Original: This titanium pot has volume marking in ml and oz. It comes with a lid with lockable grip and a mesh storage sack.\n"
     ]
    }
   ],
   "source": [
    "#Modelo base\n",
    "result = model_before.generate_content('What is product TOAKS Titanium 850ml Pot on Amazon?')\n",
    "print(f\"Antes do tuning: {result.text}\")\n",
    "\n",
    "print('----------')\n",
    "\n",
    "# Modelo tuned\n",
    "result = model.generate_content('What is product TOAKS Titanium 850ml Pot on Amazon?')\n",
    "print(f\"Depois do tuning: {result.text}\")\n",
    "\n",
    "print('----------')\n",
    "\n",
    "# Modelo tuned com temperature 0\n",
    "result = model.generate_content('What is product TOAKS Titanium 850ml Pot on Amazon?',generation_config={'temperature': 0})\n",
    "print(f\"Depois do tuning com temperature 0: {result.text}\")\n",
    "\n",
    "print('----------')\n",
    "\n",
    "# Content Original do dataset reduzido\n",
    "print(\"Content Original: This titanium pot has volume marking in ml and oz. It comes with a lid with lockable grip and a mesh storage sack.\")"
   ]
  }
 ],
 "metadata": {
  "kernelspec": {
   "display_name": "tech_challenge_fase3",
   "language": "python",
   "name": "python3"
  },
  "language_info": {
   "codemirror_mode": {
    "name": "ipython",
    "version": 3
   },
   "file_extension": ".py",
   "mimetype": "text/x-python",
   "name": "python",
   "nbconvert_exporter": "python",
   "pygments_lexer": "ipython3",
   "version": "3.12.2"
  }
 },
 "nbformat": 4,
 "nbformat_minor": 2
}
