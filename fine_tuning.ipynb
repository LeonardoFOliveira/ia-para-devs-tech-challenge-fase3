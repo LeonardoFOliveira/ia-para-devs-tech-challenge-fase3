{
 "cells": [
  {
   "cell_type": "markdown",
   "metadata": {},
   "source": [
    "# Fine-Tuning"
   ]
  },
  {
   "cell_type": "markdown",
   "metadata": {},
   "source": [
    "## Escolha do Dataset"
   ]
  },
  {
   "cell_type": "markdown",
   "metadata": {},
   "source": [
    "O Dataset proposto para ser utilizado no tech challange é o **The AmazonTitles-1.3MM**. Este consiste em consultas textuais reais de usuários e títulos associados de produtos relevantes encontrados na Amazon e suas descrições, medidos por ações implícitas ou explícitas dos \n",
    "usuários."
   ]
  },
  {
   "cell_type": "markdown",
   "metadata": {},
   "source": [
    "Pelo tamanho do dataset, não sera possível disponibiliza-lo de forma direta aqui. Para executar esse processo, deve-se baixar o arquivo no [link](https://drive.google.com/file/d/12zH4mL2RX8iSvH0VCNnd3QxO4DzuHWnK/view) que foi fornecido pelo Tech Challange, extrair e inserir o \"trn.json\" na raiz do projeto."
   ]
  },
  {
   "cell_type": "markdown",
   "metadata": {},
   "source": [
    "## Preparação do Dataset"
   ]
  },
  {
   "cell_type": "markdown",
   "metadata": {},
   "source": [
    "### Carregamento"
   ]
  },
  {
   "cell_type": "markdown",
   "metadata": {},
   "source": [
    "Utilização do arquivo \"trn.json\" do Dataset proposto, apenas com as colunas \"title\" e \"content\" as quais serão utilizadas posteriormente no fine tuning do modelo de LLM, de forma que responda as informações da descrição do produto com base em pergunta sobre o título."
   ]
  },
  {
   "cell_type": "code",
   "execution_count": null,
   "metadata": {},
   "outputs": [],
   "source": [
    "! pip install pandas"
   ]
  },
  {
   "cell_type": "code",
   "execution_count": 1,
   "metadata": {},
   "outputs": [
    {
     "name": "stdout",
     "output_type": "stream",
     "text": [
      "                                               title  \\\n",
      "0                        Girls Ballet Tutu Neon Pink   \n",
      "1                           Adult Ballet Tutu Yellow   \n",
      "2  The Way Things Work: An Illustrated Encycloped...   \n",
      "3                                      Mog's Kittens   \n",
      "4                              Misty of Chincoteague   \n",
      "\n",
      "                                             content  \n",
      "0  High quality 3 layer ballet tutu. 12 inches in...  \n",
      "1                                                     \n",
      "2                                                     \n",
      "3  Judith Kerr&#8217;s best&#8211;selling adventu...  \n",
      "4                                                     \n"
     ]
    }
   ],
   "source": [
    "import pandas as pd\n",
    "\n",
    "# Carregando o arquivo JSONL inteiro\n",
    "file_path = './trn.json'\n",
    "df = pd.read_json(file_path, lines=True)\n",
    "\n",
    "# Selecionando apenas as colunas desejadas\n",
    "colunas_desejadas = ['title', 'content']\n",
    "df_selecionado = df[colunas_desejadas]\n",
    "\n",
    "# Exibindo as primeiras linhas para verificar o resultado\n",
    "print(df_selecionado.head())\n"
   ]
  },
  {
   "cell_type": "code",
   "execution_count": 2,
   "metadata": {},
   "outputs": [
    {
     "data": {
      "text/plain": [
       "2248619"
      ]
     },
     "execution_count": 2,
     "metadata": {},
     "output_type": "execute_result"
    }
   ],
   "source": [
    "# Verificando o número de linhas\n",
    "df_selecionado.shape[0]"
   ]
  },
  {
   "cell_type": "markdown",
   "metadata": {},
   "source": [
    "### Limpeza e pré-processamento"
   ]
  },
  {
   "cell_type": "code",
   "execution_count": 3,
   "metadata": {},
   "outputs": [
    {
     "name": "stderr",
     "output_type": "stream",
     "text": [
      "C:\\Users\\leona\\AppData\\Local\\Temp\\ipykernel_19252\\2741903638.py:4: SettingWithCopyWarning: \n",
      "A value is trying to be set on a copy of a slice from a DataFrame\n",
      "\n",
      "See the caveats in the documentation: https://pandas.pydata.org/pandas-docs/stable/user_guide/indexing.html#returning-a-view-versus-a-copy\n",
      "  df_selecionado.replace(\"\", np.nan, inplace=True)\n",
      "C:\\Users\\leona\\AppData\\Local\\Temp\\ipykernel_19252\\2741903638.py:7: SettingWithCopyWarning: \n",
      "A value is trying to be set on a copy of a slice from a DataFrame\n",
      "\n",
      "See the caveats in the documentation: https://pandas.pydata.org/pandas-docs/stable/user_guide/indexing.html#returning-a-view-versus-a-copy\n",
      "  df_selecionado.dropna(inplace=True)\n",
      "C:\\Users\\leona\\AppData\\Local\\Temp\\ipykernel_19252\\2741903638.py:10: SettingWithCopyWarning: \n",
      "A value is trying to be set on a copy of a slice from a DataFrame\n",
      "\n",
      "See the caveats in the documentation: https://pandas.pydata.org/pandas-docs/stable/user_guide/indexing.html#returning-a-view-versus-a-copy\n",
      "  df_selecionado.drop_duplicates(inplace=True)\n"
     ]
    },
    {
     "data": {
      "text/plain": [
       "1367131"
      ]
     },
     "execution_count": 3,
     "metadata": {},
     "output_type": "execute_result"
    }
   ],
   "source": [
    "import numpy as np\n",
    "\n",
    "# Substituindo valores vazios (\"\") por NaN\n",
    "df_selecionado.replace(\"\", np.nan, inplace=True)\n",
    "\n",
    "# Removendo linhas com valores nulos\n",
    "df_selecionado.dropna(inplace=True)\n",
    "\n",
    "# Removendo linhas duplicadas\n",
    "df_selecionado.drop_duplicates(inplace=True)\n",
    "\n",
    "df_selecionado.shape[0]\n"
   ]
  },
  {
   "cell_type": "markdown",
   "metadata": {},
   "source": [
    "Para utilizar o fine tunning do Gemini, há algumas limitações como por exemplo:\n",
    "- The maximum input size per example is 40,000 characters.\n",
    "- The maximum output size per example is 5,000 characters.\n",
    "\n",
    "Nesse sentido, é necessário tratar para que não receba exemplos que ultrapasse esses valores."
   ]
  },
  {
   "cell_type": "code",
   "execution_count": 4,
   "metadata": {},
   "outputs": [],
   "source": [
    "# Filtrando linhas com menos de 40.000 caracteres na coluna \"title\"\n",
    "df_selecionado = df_selecionado[df_selecionado['title'].apply(lambda x: len(x) <= 40000)]\n",
    "\n",
    "# Filtrando linhas com menos de 5.000 caracteres na coluna \"content\"\n",
    "df_selecionado = df_selecionado[df_selecionado['content'].apply(lambda x: len(x) <= 5000)]"
   ]
  },
  {
   "cell_type": "code",
   "execution_count": 5,
   "metadata": {},
   "outputs": [
    {
     "data": {
      "text/plain": [
       "1361593"
      ]
     },
     "execution_count": 5,
     "metadata": {},
     "output_type": "execute_result"
    }
   ],
   "source": [
    "df_selecionado.shape[0]"
   ]
  },
  {
   "cell_type": "markdown",
   "metadata": {},
   "source": [
    "A uma limitação do tamanho de dados de treinamento que pode ser passado para o fine tuning com a lib (max 400 MB) e também limitação referente ao numero de exemplos que podemos utilizar multiplicado pleo número de épocas (len(examples) * epoch_count < 250.000). \n",
    "\n",
    "Nesse sentido, vamos precisar reduzir o dataset."
   ]
  },
  {
   "cell_type": "markdown",
   "metadata": {},
   "source": [
    "Primeiro vamos verificar o tamanho do \"arquivo\" do dataset selecionado."
   ]
  },
  {
   "cell_type": "code",
   "execution_count": 6,
   "metadata": {},
   "outputs": [
    {
     "name": "stdout",
     "output_type": "stream",
     "text": [
      "Tamanho atual do dataset: 976.437991142273 MB\n"
     ]
    }
   ],
   "source": [
    "import sys\n",
    "\n",
    "dataset_size = sys.getsizeof(df_selecionado)\n",
    "print(f\"Tamanho atual do dataset: {dataset_size / (1024 * 1024)} MB\")"
   ]
  },
  {
   "cell_type": "markdown",
   "metadata": {},
   "source": [
    "Remover primeiramente as linhas com base na quantidade de épocas exploradas, que consequentemente deve reduzir o tamanho em MB."
   ]
  },
  {
   "cell_type": "code",
   "execution_count": 7,
   "metadata": {},
   "outputs": [],
   "source": [
    "# Embaralhando o DataFrame\n",
    "df_shuffled = df_selecionado.sample(frac=1, random_state=42).reset_index(drop=True)"
   ]
  },
  {
   "cell_type": "markdown",
   "metadata": {},
   "source": [
    "**Calculando o limite permitido:**"
   ]
  },
  {
   "cell_type": "code",
   "execution_count": 8,
   "metadata": {},
   "outputs": [
    {
     "name": "stdout",
     "output_type": "stream",
     "text": [
      "Pode-se usar até 125000 exemplos no dataset com 2 épocas.\n"
     ]
    }
   ],
   "source": [
    "epoch_count = 2\n",
    "\n",
    "max_examples = 250000 // epoch_count\n",
    "print(f\"Pode-se usar até {max_examples} exemplos no dataset com {epoch_count} épocas.\")"
   ]
  },
  {
   "cell_type": "markdown",
   "metadata": {},
   "source": [
    "**Reduzindo o Dataset:**"
   ]
  },
  {
   "cell_type": "code",
   "execution_count": 9,
   "metadata": {},
   "outputs": [],
   "source": [
    "# Removendo as linhas excedentes\n",
    "df_reduced = df_shuffled.iloc[:max_examples]"
   ]
  },
  {
   "cell_type": "code",
   "execution_count": 10,
   "metadata": {},
   "outputs": [
    {
     "data": {
      "text/plain": [
       "125000"
      ]
     },
     "execution_count": 10,
     "metadata": {},
     "output_type": "execute_result"
    }
   ],
   "source": [
    "df_reduced.shape[0]"
   ]
  },
  {
   "cell_type": "code",
   "execution_count": 11,
   "metadata": {},
   "outputs": [
    {
     "name": "stdout",
     "output_type": "stream",
     "text": [
      "Tamanho reduzido do dataset: 88.50557327270508 MB\n"
     ]
    }
   ],
   "source": [
    "new_size = sys.getsizeof(df_reduced)\n",
    "print(f\"Tamanho reduzido do dataset: {new_size / (1024 * 1024)} MB\")"
   ]
  },
  {
   "cell_type": "markdown",
   "metadata": {},
   "source": [
    "**Caso fosse necessário diminuir o tamanho ainda mais:**"
   ]
  },
  {
   "cell_type": "code",
   "execution_count": null,
   "metadata": {},
   "outputs": [],
   "source": [
    "# # Quantidade de linhas totais no dataset\n",
    "# total_rows = len(df_reduced)\n",
    "\n",
    "# # Tamanho médio por linha\n",
    "# average_row_size = dataset_size / total_rows\n",
    "\n",
    "# # Limite de tamanho em bytes (400 MB)\n",
    "# max_size = 400 * 1024 * 1024  # 400 MB em bytes\n",
    "\n",
    "# # Calculando quantas linhas precisamos para ficar abaixo de 400 MB\n",
    "# target_rows = int(max_size / average_row_size)\n",
    "\n",
    "# # Removendo as linhas excedentes\n",
    "# df_reduced = df_reduced.iloc[:target_rows]\n",
    "\n",
    "# # Verificando o novo tamanho\n",
    "# new_size = sys.getsizeof(df_reduced)\n",
    "# print(f\"Tamanho reduzido do dataset: {new_size / (1024 * 1024)} MB\")"
   ]
  },
  {
   "cell_type": "code",
   "execution_count": 12,
   "metadata": {},
   "outputs": [],
   "source": [
    "# Salvando o DataFrame reduzido em formato JSONL para melhor visualização dos dados finais\n",
    "df_reduced.to_json('dataset_reduzido.jsonl', orient='records', lines=True)"
   ]
  },
  {
   "cell_type": "markdown",
   "metadata": {},
   "source": [
    "vamos deixar o texto preparado para que esteja em um formato de pergunta, de forma que esteja simulando a pergunta do usuário para exemplificar no treinamento."
   ]
  },
  {
   "cell_type": "code",
   "execution_count": 13,
   "metadata": {},
   "outputs": [
    {
     "name": "stderr",
     "output_type": "stream",
     "text": [
      "C:\\Users\\leona\\AppData\\Local\\Temp\\ipykernel_19252\\1906977488.py:1: SettingWithCopyWarning: \n",
      "A value is trying to be set on a copy of a slice from a DataFrame.\n",
      "Try using .loc[row_indexer,col_indexer] = value instead\n",
      "\n",
      "See the caveats in the documentation: https://pandas.pydata.org/pandas-docs/stable/user_guide/indexing.html#returning-a-view-versus-a-copy\n",
      "  df_reduced['formatted_title'] = df_reduced['title'].apply(lambda x: f\"What is the {x} product?\")\n"
     ]
    },
    {
     "data": {
      "text/html": [
       "<div>\n",
       "<style scoped>\n",
       "    .dataframe tbody tr th:only-of-type {\n",
       "        vertical-align: middle;\n",
       "    }\n",
       "\n",
       "    .dataframe tbody tr th {\n",
       "        vertical-align: top;\n",
       "    }\n",
       "\n",
       "    .dataframe thead th {\n",
       "        text-align: right;\n",
       "    }\n",
       "</style>\n",
       "<table border=\"1\" class=\"dataframe\">\n",
       "  <thead>\n",
       "    <tr style=\"text-align: right;\">\n",
       "      <th></th>\n",
       "      <th>title</th>\n",
       "      <th>content</th>\n",
       "      <th>formatted_title</th>\n",
       "    </tr>\n",
       "  </thead>\n",
       "  <tbody>\n",
       "    <tr>\n",
       "      <th>0</th>\n",
       "      <td>Freshwater Fishing: 1000 Tips From The Pros</td>\n",
       "      <td>The two have done their homework...a wonderful...</td>\n",
       "      <td>What is the Freshwater Fishing: 1000 Tips From...</td>\n",
       "    </tr>\n",
       "    <tr>\n",
       "      <th>1</th>\n",
       "      <td>Fisher-Price Growing Baby Pull Along Froggie</td>\n",
       "      <td>Where should we go? A fun pull-along friend pr...</td>\n",
       "      <td>What is the Fisher-Price Growing Baby Pull Alo...</td>\n",
       "    </tr>\n",
       "    <tr>\n",
       "      <th>2</th>\n",
       "      <td>More from Macrina: New Favorites from Seattle'...</td>\n",
       "      <td>&amp;ldquo;Leslie Mackie is the goddess of bakers ...</td>\n",
       "      <td>What is the More from Macrina: New Favorites f...</td>\n",
       "    </tr>\n",
       "    <tr>\n",
       "      <th>3</th>\n",
       "      <td>Gridlock</td>\n",
       "      <td>Former U.S. senator Dorgan (D-North Dakota) an...</td>\n",
       "      <td>What is the Gridlock product?</td>\n",
       "    </tr>\n",
       "    <tr>\n",
       "      <th>4</th>\n",
       "      <td>Quiet Time Fashion Bed - Pink - 17&amp;quot; x 12&amp;...</td>\n",
       "      <td>Same Quiet Time quality in new fashion colors....</td>\n",
       "      <td>What is the Quiet Time Fashion Bed - Pink - 17...</td>\n",
       "    </tr>\n",
       "    <tr>\n",
       "      <th>...</th>\n",
       "      <td>...</td>\n",
       "      <td>...</td>\n",
       "      <td>...</td>\n",
       "    </tr>\n",
       "    <tr>\n",
       "      <th>124995</th>\n",
       "      <td>EApLANET&amp;reg; Brother Compatible ink for LC-71...</td>\n",
       "      <td>Exclusively designed for EApLANET. High qualit...</td>\n",
       "      <td>What is the EApLANET&amp;reg; Brother Compatible i...</td>\n",
       "    </tr>\n",
       "    <tr>\n",
       "      <th>124996</th>\n",
       "      <td>T. H. Marine LCH-1W Cup Holder, Color White</td>\n",
       "      <td>LARGE CUP HOLDER WHITE</td>\n",
       "      <td>What is the T. H. Marine LCH-1W Cup Holder, Co...</td>\n",
       "    </tr>\n",
       "    <tr>\n",
       "      <th>124997</th>\n",
       "      <td>Ultimate Kids Toy Army Combat Set with Ak47 Gu...</td>\n",
       "      <td>Note: Small Parts. Choking hazard. Not for chi...</td>\n",
       "      <td>What is the Ultimate Kids Toy Army Combat Set ...</td>\n",
       "    </tr>\n",
       "    <tr>\n",
       "      <th>124998</th>\n",
       "      <td>Persil Universal-Gel Waschmittel 16 Waschladun...</td>\n",
       "      <td>Persil Universal Gel laundry detergent is suit...</td>\n",
       "      <td>What is the Persil Universal-Gel Waschmittel 1...</td>\n",
       "    </tr>\n",
       "    <tr>\n",
       "      <th>124999</th>\n",
       "      <td>Mozart: Le Nozze di Figaro</td>\n",
       "      <td>Ren&amp;#xE9; Jacobs has done it again. Following ...</td>\n",
       "      <td>What is the Mozart: Le Nozze di Figaro product?</td>\n",
       "    </tr>\n",
       "  </tbody>\n",
       "</table>\n",
       "<p>125000 rows × 3 columns</p>\n",
       "</div>"
      ],
      "text/plain": [
       "                                                    title  \\\n",
       "0             Freshwater Fishing: 1000 Tips From The Pros   \n",
       "1            Fisher-Price Growing Baby Pull Along Froggie   \n",
       "2       More from Macrina: New Favorites from Seattle'...   \n",
       "3                                                Gridlock   \n",
       "4       Quiet Time Fashion Bed - Pink - 17&quot; x 12&...   \n",
       "...                                                   ...   \n",
       "124995  EApLANET&reg; Brother Compatible ink for LC-71...   \n",
       "124996        T. H. Marine LCH-1W Cup Holder, Color White   \n",
       "124997  Ultimate Kids Toy Army Combat Set with Ak47 Gu...   \n",
       "124998  Persil Universal-Gel Waschmittel 16 Waschladun...   \n",
       "124999                         Mozart: Le Nozze di Figaro   \n",
       "\n",
       "                                                  content  \\\n",
       "0       The two have done their homework...a wonderful...   \n",
       "1       Where should we go? A fun pull-along friend pr...   \n",
       "2       &ldquo;Leslie Mackie is the goddess of bakers ...   \n",
       "3       Former U.S. senator Dorgan (D-North Dakota) an...   \n",
       "4       Same Quiet Time quality in new fashion colors....   \n",
       "...                                                   ...   \n",
       "124995  Exclusively designed for EApLANET. High qualit...   \n",
       "124996                             LARGE CUP HOLDER WHITE   \n",
       "124997  Note: Small Parts. Choking hazard. Not for chi...   \n",
       "124998  Persil Universal Gel laundry detergent is suit...   \n",
       "124999  Ren&#xE9; Jacobs has done it again. Following ...   \n",
       "\n",
       "                                          formatted_title  \n",
       "0       What is the Freshwater Fishing: 1000 Tips From...  \n",
       "1       What is the Fisher-Price Growing Baby Pull Alo...  \n",
       "2       What is the More from Macrina: New Favorites f...  \n",
       "3                           What is the Gridlock product?  \n",
       "4       What is the Quiet Time Fashion Bed - Pink - 17...  \n",
       "...                                                   ...  \n",
       "124995  What is the EApLANET&reg; Brother Compatible i...  \n",
       "124996  What is the T. H. Marine LCH-1W Cup Holder, Co...  \n",
       "124997  What is the Ultimate Kids Toy Army Combat Set ...  \n",
       "124998  What is the Persil Universal-Gel Waschmittel 1...  \n",
       "124999    What is the Mozart: Le Nozze di Figaro product?  \n",
       "\n",
       "[125000 rows x 3 columns]"
      ]
     },
     "execution_count": 13,
     "metadata": {},
     "output_type": "execute_result"
    }
   ],
   "source": [
    "df_reduced['formatted_title'] = df_reduced['title'].apply(lambda x: f\"What is the {x} product?\")\n",
    "df_reduced"
   ]
  },
  {
   "cell_type": "markdown",
   "metadata": {},
   "source": [
    "## Google AI Studio"
   ]
  },
  {
   "cell_type": "code",
   "execution_count": null,
   "metadata": {},
   "outputs": [],
   "source": [
    "! pip install google-generativeai"
   ]
  },
  {
   "cell_type": "markdown",
   "metadata": {},
   "source": [
    "### Chamada do Base (Foundation) Model"
   ]
  },
  {
   "cell_type": "markdown",
   "metadata": {},
   "source": [
    "Antes de realizarmos o processo de execução do fine-tuning, testaremos com uma chamada no modelo base antes do treinamento, para que se obtenha uma base de análise após o fine-tuning."
   ]
  },
  {
   "cell_type": "markdown",
   "metadata": {},
   "source": [
    "#### Autenticação - OAuth"
   ]
  },
  {
   "cell_type": "markdown",
   "metadata": {},
   "source": [
    "##### Pré requisitos"
   ]
  },
  {
   "cell_type": "markdown",
   "metadata": {},
   "source": [
    "- Um Google Cloud Project\n",
    "- Instalar o gcloud CLI localmente"
   ]
  },
  {
   "cell_type": "markdown",
   "metadata": {},
   "source": [
    "Para realizar o fine tuning de um modelo base Gemini pelo Google AI Studio, é necessário fazer uma autenticação do tipo OAuth. \n",
    "\n",
    "Documentação de referência para OAuth: https://ai.google.dev/gemini-api/docs/oauth\n",
    " \n",
    "_OAuth é apenas necessário para o fine tuning. Para a utilização do modelo fine tuned, pode utilizar API Key._"
   ]
  },
  {
   "cell_type": "code",
   "execution_count": 14,
   "metadata": {},
   "outputs": [
    {
     "name": "stderr",
     "output_type": "stream",
     "text": [
      "Your browser has been opened to visit:\n",
      "\n",
      "    https://accounts.google.com/o/oauth2/auth?response_type=code&client_id=610173493762-cbik4ek8b40oo3hq52bk1hbam4egjr0r.apps.googleusercontent.com&redirect_uri=http%3A%2F%2Flocalhost%3A8085%2F&scope=https%3A%2F%2Fwww.googleapis.com%2Fauth%2Fcloud-platform+https%3A%2F%2Fwww.googleapis.com%2Fauth%2Fgenerative-language.retriever+https%3A%2F%2Fwww.googleapis.com%2Fauth%2Fgenerative-language.tuning&state=gkkfLVdL1909ADsMI898X5CYRoHKP5&access_type=offline&code_challenge=oX1OmClRC-97tJ-atgI-v-9IJw8EVDoXGT5NbissprU&code_challenge_method=S256\n",
      "\n",
      "\n",
      "Credentials saved to file: [C:\\Users\\leona\\AppData\\Roaming\\gcloud\\application_default_credentials.json]\n",
      "\n",
      "These credentials will be used by any library that requests Application Default Credentials (ADC).\n"
     ]
    }
   ],
   "source": [
    "!gcloud auth application-default login \\\n",
    "    --client-id-file=client_secret.json \\\n",
    "    --scopes=\"https://www.googleapis.com/auth/cloud-platform,https://www.googleapis.com/auth/generative-language.retriever,https://www.googleapis.com/auth/generative-language.tuning\""
   ]
  },
  {
   "cell_type": "code",
   "execution_count": 15,
   "metadata": {},
   "outputs": [
    {
     "name": "stdout",
     "output_type": "stream",
     "text": [
      "ya29.a0AcM612wggyCAiHfulN1wyRZdthZniWb5ulKcvwh2OpolGMC7RKD-jYif3YCyiZNtKsEXcLVN3_SmLjdvP_q31szqCt5LwHEYbQFqLgyqCasHahLrne6wTkl4HTLCHxJJxkvyHuT1dFCbtJtfqzF5hjtc2SLqjgxSfVVfjLLEaCgYKAfsSARASFQHGX2MimLO1vK-OueCL9rZtbLYUEA0175\n"
     ]
    }
   ],
   "source": [
    "! gcloud auth application-default print-access-token"
   ]
  },
  {
   "cell_type": "code",
   "execution_count": null,
   "metadata": {},
   "outputs": [],
   "source": [
    "# ! pip install python-dotenv"
   ]
  },
  {
   "cell_type": "code",
   "execution_count": 16,
   "metadata": {},
   "outputs": [
    {
     "name": "stderr",
     "output_type": "stream",
     "text": [
      "c:\\Projects\\ia-para-devs-tech-challenge-fase3\\tech_challenge_fase3\\Lib\\site-packages\\tqdm\\auto.py:21: TqdmWarning: IProgress not found. Please update jupyter and ipywidgets. See https://ipywidgets.readthedocs.io/en/stable/user_install.html\n",
      "  from .autonotebook import tqdm as notebook_tqdm\n"
     ]
    },
    {
     "data": {
      "text/plain": [
       "'Unfortunately, I cannot find any information about a product called \"Memorex Sport CD Boombox\". It\\'s possible that:\\n\\n* **The product name is incorrect:**  There might be a slight variation in the name, or it might be a different model altogether.\\n* **The product is discontinued:**  Memorex, like many companies, discontinues older models, and information about them might be scarce online.\\n* **The product was region-specific:** It\\'s possible the product was only sold in a certain region and isn\\'t widely known.\\n\\n**To find more information, I recommend:**\\n\\n1. **Double-checking the product name:**  Ensure you have the correct name and try searching again.\\n2. **Searching for similar Memorex products:** Look for other Memorex boomboxes or CD players and see if any resemble the one you are looking for.\\n3. **Checking online marketplaces:** Sites like eBay or Amazon might have old product listings that can provide more details.\\n4. **Contacting Memorex directly:** You can try reaching out to Memorex customer service for assistance in finding information about the product.\\n\\nHopefully, with a bit more investigation, you\\'ll be able to find what you are looking for. \\n'"
      ]
     },
     "execution_count": 16,
     "metadata": {},
     "output_type": "execute_result"
    }
   ],
   "source": [
    "# import os\n",
    "import google.generativeai as genai\n",
    "# from dotenv import load_dotenv\n",
    "\n",
    "# load_dotenv()\n",
    "\n",
    "# genai.configure(api_key=os.getenv(\"GEMINI_API_KEY\"))\n",
    "\n",
    "base_model = \"models/gemini-1.5-flash-001-tuning\"\n",
    "model_before = genai.GenerativeModel(\n",
    "  model_name=base_model,\n",
    ")\n",
    "\n",
    "result_before = model_before.generate_content(\"What is the Memorex Sport CD Boombox product?\")\n",
    "result_before.text"
   ]
  },
  {
   "cell_type": "markdown",
   "metadata": {},
   "source": [
    "### Execução do Fine-Tuning"
   ]
  },
  {
   "cell_type": "markdown",
   "metadata": {},
   "source": [
    "#### Autenticação - OAuth"
   ]
  },
  {
   "cell_type": "markdown",
   "metadata": {},
   "source": [
    "##### Pré requisitos"
   ]
  },
  {
   "cell_type": "markdown",
   "metadata": {},
   "source": [
    "- Um Google Cloud Project\n",
    "- Instalar o gcloud CLI localmente"
   ]
  },
  {
   "cell_type": "markdown",
   "metadata": {},
   "source": [
    "Para realizar o fine tuning de um modelo base Gemini pelo Google AI Studio, é necessário fazer uma autenticação do tipo OAuth. \n",
    "\n",
    "Documentação de referência para OAuth: https://ai.google.dev/gemini-api/docs/oauth\n",
    " \n",
    "_OAuth é apenas necessário para o fine tuning. Para a utilização do modelo fine tuned, pode utilizar API Key._"
   ]
  },
  {
   "cell_type": "code",
   "execution_count": null,
   "metadata": {},
   "outputs": [],
   "source": [
    "!gcloud auth application-default login \\\n",
    "    --client-id-file=client_secret.json \\\n",
    "    --scopes=\"https://www.googleapis.com/auth/cloud-platform,https://www.googleapis.com/auth/generative-language.retriever,https://www.googleapis.com/auth/generative-language.tuning\""
   ]
  },
  {
   "cell_type": "code",
   "execution_count": null,
   "metadata": {},
   "outputs": [],
   "source": [
    "! gcloud auth application-default print-access-token"
   ]
  },
  {
   "cell_type": "markdown",
   "metadata": {},
   "source": [
    "#### Criação do tuned model"
   ]
  },
  {
   "cell_type": "markdown",
   "metadata": {},
   "source": [
    "##### Preparando dados de treinamento"
   ]
  },
  {
   "cell_type": "markdown",
   "metadata": {},
   "source": [
    "O dataset foi limpado e pré processado acima. Porém para utilizar no trainamento é necessário passar as informações no formato de lista com \"text_input\" e \"output\", passando como exemplos de entrada e saída esperada."
   ]
  },
  {
   "cell_type": "code",
   "execution_count": 17,
   "metadata": {},
   "outputs": [],
   "source": [
    "training_data = df_reduced.apply(lambda row: {\"text_input\": row['formatted_title'], \"output\": row['content']}, axis=1).tolist()"
   ]
  },
  {
   "cell_type": "markdown",
   "metadata": {},
   "source": [
    "##### Execução"
   ]
  },
  {
   "cell_type": "code",
   "execution_count": 18,
   "metadata": {},
   "outputs": [],
   "source": [
    "operation = genai.create_tuned_model(\n",
    "    display_name=\"tech-challenge-fase3\",\n",
    "    source_model=base_model,\n",
    "    epoch_count=epoch_count,\n",
    "    batch_size=4,\n",
    "    learning_rate=0.001,\n",
    "    training_data=training_data,\n",
    ")"
   ]
  },
  {
   "cell_type": "markdown",
   "metadata": {},
   "source": [
    "##### Checando progresso do tuning"
   ]
  },
  {
   "cell_type": "code",
   "execution_count": 19,
   "metadata": {},
   "outputs": [
    {
     "name": "stderr",
     "output_type": "stream",
     "text": [
      " 93%|█████████▎| 58382/62500 [41:32:08<3:18:49,  2.90s/it]  "
     ]
    }
   ],
   "source": [
    "import time\n",
    "\n",
    "for status in operation.wait_bar():\n",
    "  time.sleep(10)"
   ]
  },
  {
   "cell_type": "markdown",
   "metadata": {},
   "source": [
    "##### Resultados tuning"
   ]
  },
  {
   "cell_type": "markdown",
   "metadata": {},
   "source": [
    "Uma vez que o tuning esteja completo, podemos visualizar a curva de perda dos resultados do ajuste. A curva de perda mostra o quanto as previsões do modelo desviam das saídas ideais."
   ]
  },
  {
   "cell_type": "code",
   "execution_count": 1,
   "metadata": {},
   "outputs": [
    {
     "name": "stdout",
     "output_type": "stream",
     "text": [
      "Requirement already satisfied: seaborn in c:\\projects\\ia-para-devs-tech-challenge-fase3\\tech_challenge_fase3\\lib\\site-packages (0.13.2)\n",
      "Requirement already satisfied: numpy!=1.24.0,>=1.20 in c:\\projects\\ia-para-devs-tech-challenge-fase3\\tech_challenge_fase3\\lib\\site-packages (from seaborn) (2.1.1)\n",
      "Requirement already satisfied: pandas>=1.2 in c:\\projects\\ia-para-devs-tech-challenge-fase3\\tech_challenge_fase3\\lib\\site-packages (from seaborn) (2.2.3)\n",
      "Requirement already satisfied: matplotlib!=3.6.1,>=3.4 in c:\\projects\\ia-para-devs-tech-challenge-fase3\\tech_challenge_fase3\\lib\\site-packages (from seaborn) (3.9.2)\n",
      "Requirement already satisfied: contourpy>=1.0.1 in c:\\projects\\ia-para-devs-tech-challenge-fase3\\tech_challenge_fase3\\lib\\site-packages (from matplotlib!=3.6.1,>=3.4->seaborn) (1.3.0)\n",
      "Requirement already satisfied: cycler>=0.10 in c:\\projects\\ia-para-devs-tech-challenge-fase3\\tech_challenge_fase3\\lib\\site-packages (from matplotlib!=3.6.1,>=3.4->seaborn) (0.12.1)\n",
      "Requirement already satisfied: fonttools>=4.22.0 in c:\\projects\\ia-para-devs-tech-challenge-fase3\\tech_challenge_fase3\\lib\\site-packages (from matplotlib!=3.6.1,>=3.4->seaborn) (4.54.1)\n",
      "Requirement already satisfied: kiwisolver>=1.3.1 in c:\\projects\\ia-para-devs-tech-challenge-fase3\\tech_challenge_fase3\\lib\\site-packages (from matplotlib!=3.6.1,>=3.4->seaborn) (1.4.7)\n",
      "Requirement already satisfied: packaging>=20.0 in c:\\projects\\ia-para-devs-tech-challenge-fase3\\tech_challenge_fase3\\lib\\site-packages (from matplotlib!=3.6.1,>=3.4->seaborn) (24.1)\n",
      "Requirement already satisfied: pillow>=8 in c:\\projects\\ia-para-devs-tech-challenge-fase3\\tech_challenge_fase3\\lib\\site-packages (from matplotlib!=3.6.1,>=3.4->seaborn) (10.4.0)\n",
      "Requirement already satisfied: pyparsing>=2.3.1 in c:\\projects\\ia-para-devs-tech-challenge-fase3\\tech_challenge_fase3\\lib\\site-packages (from matplotlib!=3.6.1,>=3.4->seaborn) (3.1.4)\n",
      "Requirement already satisfied: python-dateutil>=2.7 in c:\\projects\\ia-para-devs-tech-challenge-fase3\\tech_challenge_fase3\\lib\\site-packages (from matplotlib!=3.6.1,>=3.4->seaborn) (2.9.0.post0)\n",
      "Requirement already satisfied: pytz>=2020.1 in c:\\projects\\ia-para-devs-tech-challenge-fase3\\tech_challenge_fase3\\lib\\site-packages (from pandas>=1.2->seaborn) (2024.2)\n",
      "Requirement already satisfied: tzdata>=2022.7 in c:\\projects\\ia-para-devs-tech-challenge-fase3\\tech_challenge_fase3\\lib\\site-packages (from pandas>=1.2->seaborn) (2024.2)\n",
      "Requirement already satisfied: six>=1.5 in c:\\projects\\ia-para-devs-tech-challenge-fase3\\tech_challenge_fase3\\lib\\site-packages (from python-dateutil>=2.7->matplotlib!=3.6.1,>=3.4->seaborn) (1.16.0)\n"
     ]
    },
    {
     "name": "stderr",
     "output_type": "stream",
     "text": [
      "\n",
      "[notice] A new release of pip is available: 24.0 -> 24.2\n",
      "[notice] To update, run: python.exe -m pip install --upgrade pip\n"
     ]
    }
   ],
   "source": [
    "! pip install seaborn"
   ]
  },
  {
   "cell_type": "code",
   "execution_count": 13,
   "metadata": {},
   "outputs": [],
   "source": [
    "# model = operation.result()\n",
    "# model\n",
    "\n",
    "## Carregando informações do modelo finalizado (nome obtido pelo interface web)\n",
    "name = 'tunedModels/techchallengefase3-m3khfk21t2bh'\n",
    "model = genai.get_tuned_model(name)"
   ]
  },
  {
   "cell_type": "code",
   "execution_count": 11,
   "metadata": {},
   "outputs": [
    {
     "data": {
      "text/plain": [
       "<State.ACTIVE: 2>"
      ]
     },
     "execution_count": 11,
     "metadata": {},
     "output_type": "execute_result"
    }
   ],
   "source": [
    "model.state"
   ]
  },
  {
   "cell_type": "code",
   "execution_count": 10,
   "metadata": {},
   "outputs": [
    {
     "data": {
      "text/plain": [
       "<Axes: xlabel='epoch', ylabel='mean_loss'>"
      ]
     },
     "execution_count": 10,
     "metadata": {},
     "output_type": "execute_result"
    },
    {
     "data": {
      "image/png": "[encoded data removed]",
      "text/plain": [
       "<Figure size 640x480 with 1 Axes>"
      ]
     },
     "metadata": {},
     "output_type": "display_data"
    }
   ],
   "source": [
    "import pandas as pd\n",
    "import seaborn as sns\n",
    "\n",
    "snapshots = pd.DataFrame(model.tuning_task.snapshots)\n",
    "\n",
    "sns.lineplot(data=snapshots, x = 'epoch', y='mean_loss')"
   ]
  },
  {
   "cell_type": "markdown",
   "metadata": {},
   "source": [
    "### Geração de respostas"
   ]
  },
  {
   "cell_type": "code",
   "execution_count": 14,
   "metadata": {},
   "outputs": [],
   "source": [
    "model = genai.GenerativeModel(model_name=name)"
   ]
  },
  {
   "cell_type": "code",
   "execution_count": 15,
   "metadata": {},
   "outputs": [
    {
     "data": {
      "text/plain": [
       "'The Memorex Sport boombox brings a sleek styling look with quality stereo sound. Featuring a double cassette tape deck, radio and CD player with CDMP3 compatibility, the Memorex Sport offers many entertainment options in one unit. The Sport features a high-power output speaker that provides a powerful sound experience for up to 100 hours of play time. It also features an adjustable bass and treble control and an LCD display for radio stations and clock. The Sport has a 3.5mm audio input that lets you connect your favorite MP3 players and digital audio players to the Sport via the auxiliary line at the back. In addition, the Sport can be set to play radio, CD and tape at random or play CD/tape repeat. It also has an alarm function that includes a sleep timer and a timer for CD, tape and radio. You can also utilize its 5-band equalizers for a clear and powerful sound. The Sport is easy to use with its front panel controls and display. Other features include a headphone jack and a detachable AC/DC power cord.'"
      ]
     },
     "execution_count": 15,
     "metadata": {},
     "output_type": "execute_result"
    }
   ],
   "source": [
    "result = model.generate_content('What is the Memorex Sport CD Boombox product?')\n",
    "result.text"
   ]
  },
  {
   "cell_type": "markdown",
   "metadata": {},
   "source": [
    "Agora, após o tuning no modelo, ele conseguiu responder a pergunta com informações do produto de fato!\n",
    "\n",
    "No entanto ele foi \"criativo\" e colocou com dizeres diferente indo até além que o content original.\n",
    "\n",
    "Comparando respostas antes, depois e conteúdo original:\n",
    "\n",
    "Antes: 'Unfortunately, I cannot find any information about a product called \"Memorex Sport CD Boombox\". It\\'s possible that:\\n\\n* **The product name is incorrect:**  There might be a slight variation in the name, or it might be a different model altogether.\\n* **The product is discontinued:**  Memorex, like many companies, discontinues older models, and information about them might be scarce online.\\n* **The product was region-specific:** It\\'s possible the product was only sold in a certain region and isn\\'t widely known.\\n\\n**To find more information, I recommend:**\\n\\n1. **Double-checking the product name:**  Ensure you have the correct name and try searching again.\\n2. **Searching for similar Memorex products:** Look for other Memorex boomboxes or CD players and see if any resemble the one you are looking for.\\n3. **Checking online marketplaces:** Sites like eBay or Amazon might have old product listings that can provide more details.\\n4. **Contacting Memorex directly:** You can try reaching out to Memorex customer service for assistance in finding information about the product.\\n\\nHopefully, with a bit more investigation, you\\'ll be able to find what you are looking for. \\n'\n",
    "\n",
    "Depois: 'The Memorex Sport boombox brings a sleek styling look with quality stereo sound. Featuring a double cassette tape deck, radio and CD player with CDMP3 compatibility, the Memorex Sport offers many entertainment options in one unit. The Sport features a high-power output speaker that provides a powerful sound experience for up to 100 hours of play time. It also features an adjustable bass and treble control and an LCD display for radio stations and clock. The Sport has a 3.5mm audio input that lets you connect your favorite MP3 players and digital audio players to the Sport via the auxiliary line at the back. In addition, the Sport can be set to play radio, CD and tape at random or play CD/tape repeat. It also has an alarm function that includes a sleep timer and a timer for CD, tape and radio. You can also utilize its 5-band equalizers for a clear and powerful sound. The Sport is easy to use with its front panel controls and display. Other features include a headphone jack and a detachable AC/DC power cord.'\n",
    "\n",
    "Content Original: 'This uniquely designed, sporty boombox features a rugged outer shell, perfect for toting to outside sporting events, the beach, or your yard. Memorex Portable Sport CD Boombox features an AM\\/FM radio with digital readout, a programmable CD player, and an audio input for connecting your MP3 player or other digital audio device. MP3851BLK includes a bass boost system, AC\\/DC operation, and has CD, CD-R\\/-RW playback.'"
   ]
  },
  {
   "cell_type": "markdown",
   "metadata": {},
   "source": [
    "Caso queiramos que a resposta esteja mais próxima da original, podemos experimentar diminuindo a temperatura do modelo ao gerar conteúdo, de forma que ele fique menos \"criativo\"."
   ]
  },
  {
   "cell_type": "code",
   "execution_count": 17,
   "metadata": {},
   "outputs": [
    {
     "data": {
      "text/plain": [
       "'The Memorex Sport CD Boombox is a portable boombox that is perfect for the active lifestyle. It features a built-in AM/FM radio, CD player, and auxiliary input for MP3 players. The boombox also has a built-in clock and alarm, and a 3.5mm headphone jack. The Memorex Sport CD Boombox is a great way to enjoy your favorite music while on the go.'"
      ]
     },
     "execution_count": 17,
     "metadata": {},
     "output_type": "execute_result"
    }
   ],
   "source": [
    "result = model.generate_content('What is the Memorex Sport CD Boombox product?',generation_config={'temperature': 0})\n",
    "result.text"
   ]
  },
  {
   "cell_type": "markdown",
   "metadata": {},
   "source": [
    "**Depois com temperature 0:** 'The Memorex Sport CD Boombox is a portable boombox that is perfect for the active lifestyle. It features a built-in AM/FM radio, CD player, and auxiliary input for MP3 players. The boombox also has a built-in clock and alarm, and a 3.5mm headphone jack. The Memorex Sport CD Boombox is a great way to enjoy your favorite music while on the go.'\n",
    "\n",
    "**Content Original:** 'This uniquely designed, sporty boombox features a rugged outer shell, perfect for toting to outside sporting events, the beach, or your yard. Memorex Portable Sport CD Boombox features an AM\\/FM radio with digital readout, a programmable CD player, and an audio input for connecting your MP3 player or other digital audio device. MP3851BLK includes a bass boost system, AC\\/DC operation, and has CD, CD-R\\/-RW playback.'"
   ]
  },
  {
   "cell_type": "markdown",
   "metadata": {},
   "source": [
    "Explorarmos mais alguns outros produtos."
   ]
  },
  {
   "cell_type": "code",
   "execution_count": 33,
   "metadata": {},
   "outputs": [
    {
     "name": "stdout",
     "output_type": "stream",
     "text": [
      "Antes do tuning: There doesn't seem to be a product called \"Jerry Rocks.\" It's possible that you're thinking of something else, or it could be a very niche product that I haven't encountered in my training data. \n",
      "\n",
      "To help me understand what you're looking for, could you provide more context? Perhaps:\n",
      "\n",
      "* **A different spelling or variation of the name.**\n",
      "* **A description of the product's purpose or category.**\n",
      "* **Any brand or company associated with it.**\n",
      "\n",
      "With more information, I might be able to assist you! \n",
      "\n",
      "----------\n",
      "Depois do tuning: Jerry is the boy whose life changed forever.  The Jerry Rocks story follows Jerry's progress as he changes from a young boy who loves to swim to a young man studying to become an artist.  Jerry overcomes his fear of the water by learning to swim and goes on to learn to scuba dive.  Jerry finds a gift for art and studies to become an artist.  He is still afraid of the water and has problems overcoming his fear of the deep.  With his friends and family's help, Jerry is able to overcome his fear and learn to dive, but also realizes he is not an artist at heart.  This book is perfect for young readers who are trying to overcome fear and fear of the dark, and also learning what they are passionate about.  Recommended for ages 10 and up.\n",
      "----------\n",
      "Depois do tuning com temperature 0: Jerry Rocks is a 1993 American comedy film directed by Michael Lehmann and starring Billy Crystal, Rene Russo, and Robert De Niro. The film was written by Lowell Ganz and Babaloo Mandel, and produced by Robert De Niro, Jane Rosenthal, and Gary Foster. The film was released in the United States on June 11, 1993. The film was a box office disappointment, grossing only $15.5 million on a $25 million budget. It was nominated for a Golden Globe Award for Best Actor - Motion Picture Musical or Comedy for Billy Crystal.\n",
      "----------\n",
      "Content Original: The top-sellingRocks!series turns to the man who literally epitomizes rock: Jerry Lee Lewis! There have been plenty of Jerry Lee compilations through the years, but this is the first to feature an incredible 80 minutes (well, 79 minutes and 50 seconds) of wall-to-wall piano pounding Rock 'n' Roll. It's also the first to include songs from Jerry Lee's Sun and Mercury recordings in one set. Twenty-one years in the life of Jerry Lee Lewis...and all the big rock hits you'd expect, likeWhole Lotta Shakin',Great Balls Of Fire,High School Confidential,I'm On Fire,Chantilly Lace, andMe And Bobbie McGee, as well as rarities and obscurities likeReal Wild Child,House Of Blue Lights, andDon't Boogie Woogie When You Say Your Prayers Tonight\"\". 2006 marked the 50th anniversary of Jerry Lee's first record release and what better way to mark that anniversary than with 80 minutes of his best rockers. CD Digipac with 40-page booklet.\n"
     ]
    }
   ],
   "source": [
    "#Modelo base\n",
    "result = model_before.generate_content('What is the Jerry Rocks product?')\n",
    "print(f'Antes do tuning: {result.text}')\n",
    "\n",
    "print('----------')\n",
    "\n",
    "# Modelo tuned\n",
    "result = model.generate_content('What is the Jerry Rocks product?')\n",
    "print(f'Depois do tuning: {result.text}')\n",
    "\n",
    "print('----------')\n",
    "\n",
    "# Modelo tuned com temperature 0\n",
    "result = model.generate_content('What is the Jerry Rocks product?',generation_config={'temperature': 0})\n",
    "print(f'Depois do tuning com temperature 0: {result.text}')\n",
    "\n",
    "print('----------')\n",
    "\n",
    "# Content Original do dataset reduzido\n",
    "print(\"Content Original: The top-sellingRocks!series turns to the man who literally epitomizes rock: Jerry Lee Lewis! There have been plenty of Jerry Lee compilations through the years, but this is the first to feature an incredible 80 minutes (well, 79 minutes and 50 seconds) of wall-to-wall piano pounding Rock 'n' Roll. It's also the first to include songs from Jerry Lee's Sun and Mercury recordings in one set. Twenty-one years in the life of Jerry Lee Lewis...and all the big rock hits you'd expect, likeWhole Lotta Shakin',Great Balls Of Fire,High School Confidential,I'm On Fire,Chantilly Lace, andMe And Bobbie McGee, as well as rarities and obscurities likeReal Wild Child,House Of Blue Lights, andDon't Boogie Woogie When You Say Your Prayers Tonight\\\"\\\". 2006 marked the 50th anniversary of Jerry Lee's first record release and what better way to mark that anniversary than with 80 minutes of his best rockers. CD Digipac with 40-page booklet.\")"
   ]
  },
  {
   "cell_type": "code",
   "execution_count": 35,
   "metadata": {},
   "outputs": [
    {
     "name": "stderr",
     "output_type": "stream",
     "text": [
      "<>:20: SyntaxWarning: invalid escape sequence '\\/'\n",
      "<>:20: SyntaxWarning: invalid escape sequence '\\/'\n",
      "C:\\Users\\leona\\AppData\\Local\\Temp\\ipykernel_5624\\2896582953.py:20: SyntaxWarning: invalid escape sequence '\\/'\n",
      "  print(\"Content Original: This 12 piece aluminum box set features aluminum bodies and clear glass top lids. They have dimensions of 2in. X 7\\/8in. In diameter.\")\n"
     ]
    },
    {
     "name": "stdout",
     "output_type": "stream",
     "text": [
      "Antes do tuning: I do not have access to real-time information, including product details like the one you described. To get information about the \"SE - Storage Container Set - Aluminum, Glass Top Lid, Round, 12Pc - 87512DB-P\" product, I recommend you try the following:\n",
      "\n",
      "* **Search online retailers:** Look for the product on websites like Amazon, Walmart, Target, etc.  \n",
      "* **Check the manufacturer's website:** If you know the brand \"SE,\" you can visit their website for details. \n",
      "* **Use a search engine:** Try searching for the product name and/or model number using Google or other search engines.\n",
      "\n",
      "These methods should help you find information about the product, such as features, dimensions, price, and availability. \n",
      "\n",
      "----------\n",
      "Depois do tuning: -Includes 2 each of 3 different sizes in aluminum containers with glass lids\n",
      "-Ideal for storing spices, oils and other pantry items in the kitchen.\n",
      "-The containers are airtight, so you can store delicate or perishable foods at room temperature.\n",
      "-These containers can also be used to store nuts and bolts, hardware, and other assorted items.\n",
      "-Storage containers set includes 1 each of the following sizes: 16 oz (480 ml) with 4-1/8\" diam., 8 oz (240 ml) with 3-1/8\" diam., 4 oz (113 g) with 3-3/8\" diam.\n",
      "----------\n",
      "Depois do tuning com temperature 0: This 12 piece set of aluminum storage containers with glass lids is perfect for storing your favorite foods. The containers are made of aluminum and have a glass lid with a silicone seal. The containers are dishwasher safe and can be used in the freezer. The containers are also microwave safe and can be used to heat your food. The containers are stackable and can be stored in the refrigerator or freezer. The containers are also great for storing your favorite spices, herbs, and other ingredients. The containers are easy to clean and maintain. The containers are also great for storing your favorite jewelry, coins, and other small items. The containers are also great for storing your favorite spices, herbs, and other ingredients. The containers are easy to clean and maintain. The containers are also great for storing your favorite jewelry, coins, and other small items.\n",
      "----------\n",
      "Content Original: This 12 piece aluminum box set features aluminum bodies and clear glass top lids. They have dimensions of 2in. X 7\\/8in. In diameter.\n"
     ]
    }
   ],
   "source": [
    "#Modelo base\n",
    "result = model_before.generate_content('What is the SE - Storage Container Set - Aluminum, Glass Top Lid, Round, 12Pc - 87512DB-P product?')\n",
    "print(f\"Antes do tuning: {result.text}\")\n",
    "\n",
    "print('----------')\n",
    "\n",
    "# Modelo tuned\n",
    "result = model.generate_content('What is the SE - Storage Container Set - Aluminum, Glass Top Lid, Round, 12Pc - 87512DB-P product?')\n",
    "print(f\"Depois do tuning: {result.text}\")\n",
    "\n",
    "print('----------')\n",
    "\n",
    "# Modelo tuned com temperature 0\n",
    "result = model.generate_content('What is the SE - Storage Container Set - Aluminum, Glass Top Lid, Round, 12Pc - 87512DB-P product?',generation_config={'temperature': 0})\n",
    "print(f\"Depois do tuning com temperature 0: {result.text}\")\n",
    "\n",
    "print('----------')\n",
    "\n",
    "# Content Original do dataset reduzido\n",
    "print(\"Content Original: This 12 piece aluminum box set features aluminum bodies and clear glass top lids. They have dimensions of 2in. X 7\\/8in. In diameter.\")"
   ]
  }
 ],
 "metadata": {
  "kernelspec": {
   "display_name": "tech_challenge_fase3",
   "language": "python",
   "name": "python3"
  },
  "language_info": {
   "codemirror_mode": {
    "name": "ipython",
    "version": 3
   },
   "file_extension": ".py",
   "mimetype": "text/x-python",
   "name": "python",
   "nbconvert_exporter": "python",
   "pygments_lexer": "ipython3",
   "version": "3.12.2"
  }
 },
 "nbformat": 4,
 "nbformat_minor": 2
}
